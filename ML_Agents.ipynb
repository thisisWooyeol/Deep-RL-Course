{
  "cells": [
    {
      "cell_type": "markdown",
      "metadata": {
        "id": "view-in-github",
        "colab_type": "text"
      },
      "source": [
        "<a href=\"https://colab.research.google.com/github/thisisWooyeol/Deep-RL-Course/blob/master/ML_Agents.ipynb\" target=\"_parent\"><img src=\"https://colab.research.google.com/assets/colab-badge.svg\" alt=\"Open In Colab\"/></a>"
      ]
    },
    {
      "cell_type": "markdown",
      "metadata": {
        "id": "2D3NL_e4crQv"
      },
      "source": [
        "# Unit 5: An Introduction to ML-Agents\n",
        "\n"
      ]
    },
    {
      "cell_type": "markdown",
      "source": [
        "<img src=\"https://huggingface.co/datasets/huggingface-deep-rl-course/course-images/resolve/main/en/unit7/thumbnail.png\" alt=\"Thumbnail\"/>\n",
        "\n",
        "In this notebook, you'll learn about ML-Agents and train two agents.\n",
        "\n",
        "- The first one will learn to **shoot snowballs onto spawning targets**.\n",
        "- The second need to press a button to spawn a pyramid, then navigate to the pyramid, knock it over, **and move to the gold brick at the top**. To do that, it will need to explore its environment, and we will use a technique called curiosity.\n",
        "\n",
        "After that, you'll be able **to watch your agents playing directly on your browser**.\n",
        "\n",
        "For more information about the certification process, check this section 👉 https://huggingface.co/deep-rl-course/en/unit0/introduction#certification-process"
      ],
      "metadata": {
        "id": "97ZiytXEgqIz"
      }
    },
    {
      "cell_type": "markdown",
      "source": [
        "⬇️ Here is an example of what **you will achieve at the end of this unit.** ⬇️\n"
      ],
      "metadata": {
        "id": "FMYrDriDujzX"
      }
    },
    {
      "cell_type": "markdown",
      "source": [
        "<img src=\"https://huggingface.co/datasets/huggingface-deep-rl-course/course-images/resolve/main/en/unit7/pyramids.gif\" alt=\"Pyramids\"/>\n",
        "\n",
        "<img src=\"https://huggingface.co/datasets/huggingface-deep-rl-course/course-images/resolve/main/en/unit7/snowballtarget.gif\" alt=\"SnowballTarget\"/>"
      ],
      "metadata": {
        "id": "cBmFlh8suma-"
      }
    },
    {
      "cell_type": "markdown",
      "source": [
        "### 🎮 Environments:\n",
        "\n",
        "- [Pyramids](https://github.com/Unity-Technologies/ml-agents/blob/main/docs/Learning-Environment-Examples.md#pyramids)\n",
        "- SnowballTarget\n",
        "\n",
        "### 📚 RL-Library:\n",
        "\n",
        "- [ML-Agents](https://github.com/Unity-Technologies/ml-agents)\n"
      ],
      "metadata": {
        "id": "A-cYE0K5iL-w"
      }
    },
    {
      "cell_type": "markdown",
      "source": [
        "We're constantly trying to improve our tutorials, so **if you find some issues in this notebook**, please [open an issue on the GitHub Repo](https://github.com/huggingface/deep-rl-class/issues)."
      ],
      "metadata": {
        "id": "qEhtaFh9i31S"
      }
    },
    {
      "cell_type": "markdown",
      "source": [
        "## Objectives of this notebook 🏆\n",
        "\n",
        "At the end of the notebook, you will:\n",
        "\n",
        "- Understand how works **ML-Agents**, the environment library.\n",
        "- Be able to **train agents in Unity Environments**.\n"
      ],
      "metadata": {
        "id": "j7f63r3Yi5vE"
      }
    },
    {
      "cell_type": "markdown",
      "source": [
        "## This notebook is from the Deep Reinforcement Learning Course\n",
        "<img src=\"https://huggingface.co/datasets/huggingface-deep-rl-course/course-images/resolve/main/en/notebooks/deep-rl-course-illustration.jpg\" alt=\"Deep RL Course illustration\"/>"
      ],
      "metadata": {
        "id": "viNzVbVaYvY3"
      }
    },
    {
      "cell_type": "markdown",
      "metadata": {
        "id": "6p5HnEefISCB"
      },
      "source": [
        "In this free course, you will:\n",
        "\n",
        "- 📖 Study Deep Reinforcement Learning in **theory and practice**.\n",
        "- 🧑‍💻 Learn to **use famous Deep RL libraries** such as Stable Baselines3, RL Baselines3 Zoo, CleanRL and Sample Factory 2.0.\n",
        "- 🤖 Train **agents in unique environments**\n",
        "\n",
        "And more check 📚 the syllabus 👉 https://huggingface.co/deep-rl-course/communication/publishing-schedule\n",
        "\n",
        "Don’t forget to **<a href=\"http://eepurl.com/ic5ZUD\">sign up to the course</a>** (we are collecting your email to be able to **send you the links when each Unit is published and give you information about the challenges and updates).**\n",
        "\n",
        "\n",
        "The best way to keep in touch is to join our discord server to exchange with the community and with us 👉🏻 https://discord.gg/ydHrjt3WP5"
      ]
    },
    {
      "cell_type": "markdown",
      "metadata": {
        "id": "Y-mo_6rXIjRi"
      },
      "source": [
        "## Prerequisites 🏗️\n",
        "Before diving into the notebook, you need to:\n",
        "\n",
        "🔲 📚 **Study [what is ML-Agents and how it works by reading Unit 5](https://huggingface.co/deep-rl-course/unit5/introduction)**  🤗  "
      ]
    },
    {
      "cell_type": "markdown",
      "source": [
        "# Let's train our agents 🚀\n",
        "\n",
        "**To validate this hands-on for the certification process, you just need to push your trained models to the Hub**. There’s no results to attain to validate this one. But if you want to get nice results you can try to attain:\n",
        "\n",
        "- For `Pyramids` : Mean Reward = 1.75\n",
        "- For `SnowballTarget` : Mean Reward = 15 or 30 targets hit in an episode.\n"
      ],
      "metadata": {
        "id": "xYO1uD5Ujgdh"
      }
    },
    {
      "cell_type": "markdown",
      "source": [
        "## Set the GPU 💪\n",
        "- To **accelerate the agent's training, we'll use a GPU**. To do that, go to `Runtime > Change Runtime type`\n",
        "\n",
        "<img src=\"https://huggingface.co/datasets/huggingface-deep-rl-course/course-images/resolve/main/en/notebooks/gpu-step1.jpg\" alt=\"GPU Step 1\">"
      ],
      "metadata": {
        "id": "DssdIjk_8vZE"
      }
    },
    {
      "cell_type": "markdown",
      "source": [
        "- `Hardware Accelerator > GPU`\n",
        "\n",
        "<img src=\"https://huggingface.co/datasets/huggingface-deep-rl-course/course-images/resolve/main/en/notebooks/gpu-step2.jpg\" alt=\"GPU Step 2\">"
      ],
      "metadata": {
        "id": "sTfCXHy68xBv"
      }
    },
    {
      "cell_type": "markdown",
      "metadata": {
        "id": "an3ByrXYQ4iK"
      },
      "source": [
        "## Clone the repository and install the dependencies 🔽\n"
      ]
    },
    {
      "cell_type": "code",
      "execution_count": null,
      "metadata": {
        "id": "6WNoL04M7rTa"
      },
      "outputs": [],
      "source": [
        "%%capture\n",
        "# Clone the repository\n",
        "!git clone --depth 1 https://github.com/Unity-Technologies/ml-agents"
      ]
    },
    {
      "cell_type": "code",
      "execution_count": null,
      "metadata": {
        "id": "d8wmVcMk7xKo"
      },
      "outputs": [],
      "source": [
        "%%capture\n",
        "# Go inside the repository and install the package\n",
        "%cd ml-agents\n",
        "!pip3 install -e ./ml-agents-envs\n",
        "!pip3 install -e ./ml-agents"
      ]
    },
    {
      "cell_type": "markdown",
      "source": [
        "## SnowballTarget ⛄\n",
        "\n",
        "If you need a refresher on how this environments work check this section 👉\n",
        "https://huggingface.co/deep-rl-course/unit5/snowball-target"
      ],
      "metadata": {
        "id": "R5_7Ptd_kEcG"
      }
    },
    {
      "cell_type": "markdown",
      "metadata": {
        "id": "HRY5ufKUKfhI"
      },
      "source": [
        "### Download and move the environment zip file in `./training-envs-executables/linux/`\n",
        "- Our environment executable is in a zip file.\n",
        "- We need to download it and place it to `./training-envs-executables/linux/`\n",
        "- We use a linux executable because we use colab, and colab machines OS is Ubuntu (linux)"
      ]
    },
    {
      "cell_type": "code",
      "execution_count": null,
      "metadata": {
        "id": "C9Ls6_6eOKiA"
      },
      "outputs": [],
      "source": [
        "# Here, we create training-envs-executables and linux\n",
        "!mkdir ./training-envs-executables\n",
        "!mkdir ./training-envs-executables/linux"
      ]
    },
    {
      "cell_type": "markdown",
      "source": [
        "We downloaded the file SnowballTarget.zip from https://github.com/huggingface/Snowball-Target using `wget`"
      ],
      "metadata": {
        "id": "ekSh8LWawkB5"
      }
    },
    {
      "cell_type": "code",
      "source": [
        "!wget \"https://github.com/huggingface/Snowball-Target/raw/main/SnowballTarget.zip\" -O ./training-envs-executables/linux/SnowballTarget.zip"
      ],
      "metadata": {
        "id": "6LosWO50wa77",
        "colab": {
          "base_uri": "https://localhost:8080/"
        },
        "outputId": "6ec1d896-8c86-495f-ea54-91b5322fbfcf"
      },
      "execution_count": null,
      "outputs": [
        {
          "output_type": "stream",
          "name": "stdout",
          "text": [
            "--2024-02-06 09:07:28--  https://github.com/huggingface/Snowball-Target/raw/main/SnowballTarget.zip\n",
            "Resolving github.com (github.com)... 140.82.112.3\n",
            "Connecting to github.com (github.com)|140.82.112.3|:443... connected.\n",
            "HTTP request sent, awaiting response... 302 Found\n",
            "Location: https://media.githubusercontent.com/media/huggingface/Snowball-Target/main/SnowballTarget.zip [following]\n",
            "--2024-02-06 09:07:28--  https://media.githubusercontent.com/media/huggingface/Snowball-Target/main/SnowballTarget.zip\n",
            "Resolving media.githubusercontent.com (media.githubusercontent.com)... 185.199.111.133, 185.199.109.133, 185.199.110.133, ...\n",
            "Connecting to media.githubusercontent.com (media.githubusercontent.com)|185.199.111.133|:443... connected.\n",
            "HTTP request sent, awaiting response... 200 OK\n",
            "Length: 35134213 (34M) [application/zip]\n",
            "Saving to: ‘./training-envs-executables/linux/SnowballTarget.zip’\n",
            "\n",
            "./training-envs-exe 100%[===================>]  33.51M   172MB/s    in 0.2s    \n",
            "\n",
            "2024-02-06 09:07:29 (172 MB/s) - ‘./training-envs-executables/linux/SnowballTarget.zip’ saved [35134213/35134213]\n",
            "\n"
          ]
        }
      ]
    },
    {
      "cell_type": "markdown",
      "source": [
        "We unzip the executable.zip file"
      ],
      "metadata": {
        "id": "_LLVaEEK3ayi"
      }
    },
    {
      "cell_type": "code",
      "execution_count": null,
      "metadata": {
        "id": "8FPx0an9IAwO"
      },
      "outputs": [],
      "source": [
        "%%capture\n",
        "!unzip -d ./training-envs-executables/linux/ ./training-envs-executables/linux/SnowballTarget.zip"
      ]
    },
    {
      "cell_type": "markdown",
      "metadata": {
        "id": "nyumV5XfPKzu"
      },
      "source": [
        "Make sure your file is accessible"
      ]
    },
    {
      "cell_type": "code",
      "execution_count": null,
      "metadata": {
        "id": "EdFsLJ11JvQf"
      },
      "outputs": [],
      "source": [
        "!chmod -R 755 ./training-envs-executables/linux/SnowballTarget"
      ]
    },
    {
      "cell_type": "markdown",
      "source": [
        "### Define the SnowballTarget config file\n",
        "- In ML-Agents, you define the **training hyperparameters into config.yaml files.**\n",
        "\n",
        "There are multiple hyperparameters. To know them better, you should check for each explanation with [the documentation](https://github.com/Unity-Technologies/ml-agents/blob/release_20_docs/docs/Training-Configuration-File.md)\n",
        "\n",
        "\n",
        "So you need to create a `SnowballTarget.yaml` config file in ./content/ml-agents/config/ppo/\n",
        "\n",
        "We'll give you here a first version of this config (to copy and paste into your `SnowballTarget.yaml file`), **but you should modify it**.\n",
        "\n",
        "```\n",
        "behaviors:\n",
        "  SnowballTarget:\n",
        "    trainer_type: ppo\n",
        "    summary_freq: 10000\n",
        "    keep_checkpoints: 10\n",
        "    checkpoint_interval: 50000\n",
        "    max_steps: 200000\n",
        "    time_horizon: 64\n",
        "    threaded: true\n",
        "    hyperparameters:\n",
        "      learning_rate: 0.0003\n",
        "      learning_rate_schedule: linear\n",
        "      batch_size: 128\n",
        "      buffer_size: 2048\n",
        "      beta: 0.005\n",
        "      epsilon: 0.2\n",
        "      lambd: 0.95\n",
        "      num_epoch: 3\n",
        "    network_settings:\n",
        "      normalize: false\n",
        "      hidden_units: 256\n",
        "      num_layers: 2\n",
        "      vis_encode_type: simple\n",
        "    reward_signals:\n",
        "      extrinsic:\n",
        "        gamma: 0.99\n",
        "        strength: 1.0\n",
        "```"
      ],
      "metadata": {
        "id": "NAuEq32Mwvtz"
      }
    },
    {
      "cell_type": "markdown",
      "source": [
        "<img src=\"https://huggingface.co/datasets/huggingface-deep-rl-course/course-images/resolve/main/en/unit7/snowballfight_config1.png\" alt=\"Config SnowballTarget\"/>\n",
        "<img src=\"https://huggingface.co/datasets/huggingface-deep-rl-course/course-images/resolve/main/en/unit7/snowballfight_config2.png\" alt=\"Config SnowballTarget\"/>"
      ],
      "metadata": {
        "id": "4U3sRH4N4h_l"
      }
    },
    {
      "cell_type": "markdown",
      "source": [
        "As an experimentation, you should also try to modify some other hyperparameters. Unity provides very [good documentation explaining each of them here](https://github.com/Unity-Technologies/ml-agents/blob/main/docs/Training-Configuration-File.md).\n",
        "\n",
        "Now that you've created the config file and understand what most hyperparameters do, we're ready to train our agent 🔥."
      ],
      "metadata": {
        "id": "JJJdo_5AyoGo"
      }
    },
    {
      "cell_type": "markdown",
      "metadata": {
        "id": "f9fI555bO12v"
      },
      "source": [
        "### Train the agent\n",
        "\n",
        "To train our agent, we just need to **launch mlagents-learn and select the executable containing the environment.**\n",
        "\n",
        "We define four parameters:\n",
        "\n",
        "1. `mlagents-learn <config>`: the path where the hyperparameter config file is.\n",
        "2. `--env`: where the environment executable is.\n",
        "3. `--run_id`: the name you want to give to your training run id.\n",
        "4. `--no-graphics`: to not launch the visualization during the training.\n",
        "\n",
        "<img src=\"https://huggingface.co/datasets/huggingface-deep-rl-course/course-images/resolve/main/en/unit7/mlagentslearn.png\" alt=\"MlAgents learn\"/>\n",
        "\n",
        "Train the model and use the `--resume` flag to continue training in case of interruption.\n",
        "\n",
        "> It will fail first time if and when you use `--resume`, try running the block again to bypass the error.\n",
        "\n"
      ]
    },
    {
      "cell_type": "markdown",
      "source": [
        "The training will take 10 to 35min depending on your config, go take a ☕️you deserve it 🤗."
      ],
      "metadata": {
        "id": "lN32oWF8zPjs"
      }
    },
    {
      "cell_type": "code",
      "execution_count": null,
      "metadata": {
        "id": "bS-Yh1UdHfzy",
        "colab": {
          "base_uri": "https://localhost:8080/"
        },
        "outputId": "fcc83a9b-d59c-4703-bedf-e5518ef6ed1d"
      },
      "outputs": [
        {
          "output_type": "stream",
          "name": "stdout",
          "text": [
            "/usr/local/lib/python3.10/dist-packages/torch/__init__.py:690: UserWarning: torch.set_default_tensor_type() is deprecated as of PyTorch 2.1, please use torch.set_default_dtype() and torch.set_default_device() as alternatives. (Triggered internally at ../torch/csrc/tensor/python_tensor.cpp:451.)\n",
            "  _C._set_default_tensor_type(t)\n",
            "\n",
            "            ┐  ╖\n",
            "        ╓╖╬│╡  ││╬╖╖\n",
            "    ╓╖╬│││││┘  ╬│││││╬╖\n",
            " ╖╬│││││╬╜        ╙╬│││││╖╖                               ╗╗╗\n",
            " ╬╬╬╬╖││╦╖        ╖╬││╗╣╣╣╬      ╟╣╣╬    ╟╣╣╣             ╜╜╜  ╟╣╣\n",
            " ╬╬╬╬╬╬╬╬╖│╬╖╖╓╬╪│╓╣╣╣╣╣╣╣╬      ╟╣╣╬    ╟╣╣╣ ╒╣╣╖╗╣╣╣╗   ╣╣╣ ╣╣╣╣╣╣ ╟╣╣╖   ╣╣╣\n",
            " ╬╬╬╬┐  ╙╬╬╬╬│╓╣╣╣╝╜  ╫╣╣╣╬      ╟╣╣╬    ╟╣╣╣ ╟╣╣╣╙ ╙╣╣╣  ╣╣╣ ╙╟╣╣╜╙  ╫╣╣  ╟╣╣\n",
            " ╬╬╬╬┐     ╙╬╬╣╣      ╫╣╣╣╬      ╟╣╣╬    ╟╣╣╣ ╟╣╣╬   ╣╣╣  ╣╣╣  ╟╣╣     ╣╣╣┌╣╣╜\n",
            " ╬╬╬╜       ╬╬╣╣      ╙╝╣╣╬      ╙╣╣╣╗╖╓╗╣╣╣╜ ╟╣╣╬   ╣╣╣  ╣╣╣  ╟╣╣╦╓    ╣╣╣╣╣\n",
            " ╙   ╓╦╖    ╬╬╣╣   ╓╗╗╖            ╙╝╣╣╣╣╝╜   ╘╝╝╜   ╝╝╝  ╝╝╝   ╙╣╣╣    ╟╣╣╣\n",
            "   ╩╬╬╬╬╬╬╦╦╬╬╣╣╗╣╣╣╣╣╣╣╝                                             ╫╣╣╣╣\n",
            "      ╙╬╬╬╬╬╬╬╣╣╣╣╣╣╝╜\n",
            "          ╙╬╬╬╣╣╣╜\n",
            "             ╙\n",
            "        \n",
            " Version information:\n",
            "  ml-agents: 1.1.0.dev0,\n",
            "  ml-agents-envs: 1.1.0.dev0,\n",
            "  Communicator API: 1.5.0,\n",
            "  PyTorch: 2.2.0+cu121\n",
            "[INFO] Connected to Unity environment with package version 2.1.0-exp.1 and communication version 1.5.0\n",
            "[INFO] Connected new brain: SnowballTarget?team=0\n",
            "[WARNING] Deleting TensorBoard data events.out.tfevents.1707214129.a3dc70f56678.18638.0 that was left over from a previous run.\n",
            "[INFO] Hyperparameters for behavior name SnowballTarget: \n",
            "\ttrainer_type:\tppo\n",
            "\thyperparameters:\t\n",
            "\t  batch_size:\t128\n",
            "\t  buffer_size:\t2048\n",
            "\t  learning_rate:\t0.0003\n",
            "\t  beta:\t0.005\n",
            "\t  epsilon:\t0.2\n",
            "\t  lambd:\t0.95\n",
            "\t  num_epoch:\t3\n",
            "\t  shared_critic:\tFalse\n",
            "\t  learning_rate_schedule:\tlinear\n",
            "\t  beta_schedule:\tlinear\n",
            "\t  epsilon_schedule:\tlinear\n",
            "\tcheckpoint_interval:\t50000\n",
            "\tnetwork_settings:\t\n",
            "\t  normalize:\tFalse\n",
            "\t  hidden_units:\t256\n",
            "\t  num_layers:\t2\n",
            "\t  vis_encode_type:\tsimple\n",
            "\t  memory:\tNone\n",
            "\t  goal_conditioning_type:\thyper\n",
            "\t  deterministic:\tFalse\n",
            "\treward_signals:\t\n",
            "\t  extrinsic:\t\n",
            "\t    gamma:\t0.99\n",
            "\t    strength:\t1.0\n",
            "\t    network_settings:\t\n",
            "\t      normalize:\tFalse\n",
            "\t      hidden_units:\t128\n",
            "\t      num_layers:\t2\n",
            "\t      vis_encode_type:\tsimple\n",
            "\t      memory:\tNone\n",
            "\t      goal_conditioning_type:\thyper\n",
            "\t      deterministic:\tFalse\n",
            "\t  curiosity:\t\n",
            "\t    gamma:\t0.99\n",
            "\t    strength:\t1.0\n",
            "\t    network_settings:\t\n",
            "\t      normalize:\tFalse\n",
            "\t      hidden_units:\t128\n",
            "\t      num_layers:\t2\n",
            "\t      vis_encode_type:\tsimple\n",
            "\t      memory:\tNone\n",
            "\t      goal_conditioning_type:\thyper\n",
            "\t      deterministic:\tFalse\n",
            "\t    learning_rate:\t0.0003\n",
            "\t    encoding_size:\tNone\n",
            "\tinit_path:\tNone\n",
            "\tkeep_checkpoints:\t10\n",
            "\teven_checkpoints:\tFalse\n",
            "\tmax_steps:\t2000000\n",
            "\ttime_horizon:\t256\n",
            "\tsummary_freq:\t10000\n",
            "\tthreaded:\tTrue\n",
            "\tself_play:\tNone\n",
            "\tbehavioral_cloning:\tNone\n",
            "/usr/local/lib/python3.10/dist-packages/transformers/utils/generic.py:441: UserWarning: torch.utils._pytree._register_pytree_node is deprecated. Please use torch.utils._pytree.register_pytree_node instead.\n",
            "  _torch_pytree._register_pytree_node(\n",
            "/content/ml-agents/ml-agents/mlagents/trainers/torch_entities/utils.py:289: UserWarning: The use of `x.T` on tensors of dimension other than 2 to reverse their shape is deprecated and it will throw an error in a future release. Consider `x.mT` to transpose batches of matrices or `x.permute(*torch.arange(x.ndim - 1, -1, -1))` to reverse the dimensions of a tensor. (Triggered internally at ../aten/src/ATen/native/TensorShape.cpp:3637.)\n",
            "  torch.nn.functional.one_hot(_act.T, action_size[i]).float()\n",
            "[INFO] SnowballTarget. Step: 10000. Time Elapsed: 29.590 s. Mean Reward: 3.041. Std of Reward: 1.840. Training.\n",
            "[INFO] SnowballTarget. Step: 20000. Time Elapsed: 55.961 s. Mean Reward: 4.660. Std of Reward: 2.113. Training.\n",
            "[INFO] SnowballTarget. Step: 30000. Time Elapsed: 78.193 s. Mean Reward: 7.100. Std of Reward: 2.166. Training.\n",
            "[INFO] SnowballTarget. Step: 40000. Time Elapsed: 104.793 s. Mean Reward: 8.540. Std of Reward: 2.586. Training.\n",
            "[INFO] SnowballTarget. Step: 50000. Time Elapsed: 126.269 s. Mean Reward: 10.100. Std of Reward: 2.759. Training.\n",
            "[INFO] Exported results/SnowballTarget-ppo/SnowballTarget/SnowballTarget-49800.onnx\n",
            "[INFO] SnowballTarget. Step: 60000. Time Elapsed: 153.315 s. Mean Reward: 13.020. Std of Reward: 2.702. Training.\n",
            "[INFO] SnowballTarget. Step: 70000. Time Elapsed: 177.016 s. Mean Reward: 14.660. Std of Reward: 2.628. Training.\n",
            "[INFO] SnowballTarget. Step: 80000. Time Elapsed: 205.864 s. Mean Reward: 16.780. Std of Reward: 3.107. Training.\n",
            "[INFO] SnowballTarget. Step: 90000. Time Elapsed: 229.115 s. Mean Reward: 19.860. Std of Reward: 2.864. Training.\n",
            "[INFO] SnowballTarget. Step: 100000. Time Elapsed: 256.705 s. Mean Reward: 20.220. Std of Reward: 2.759. Training.\n",
            "[INFO] Exported results/SnowballTarget-ppo/SnowballTarget/SnowballTarget-99800.onnx\n",
            "[INFO] SnowballTarget. Step: 110000. Time Elapsed: 279.954 s. Mean Reward: 20.700. Std of Reward: 2.274. Training.\n",
            "[INFO] SnowballTarget. Step: 120000. Time Elapsed: 309.371 s. Mean Reward: 22.440. Std of Reward: 2.401. Training.\n",
            "[INFO] SnowballTarget. Step: 130000. Time Elapsed: 338.334 s. Mean Reward: 21.720. Std of Reward: 2.800. Training.\n",
            "[INFO] SnowballTarget. Step: 140000. Time Elapsed: 361.050 s. Mean Reward: 22.540. Std of Reward: 2.022. Training.\n",
            "[INFO] SnowballTarget. Step: 150000. Time Elapsed: 389.792 s. Mean Reward: 23.600. Std of Reward: 2.098. Training.\n",
            "[INFO] Exported results/SnowballTarget-ppo/SnowballTarget/SnowballTarget-149800.onnx\n",
            "[INFO] SnowballTarget. Step: 160000. Time Elapsed: 413.607 s. Mean Reward: 23.160. Std of Reward: 2.556. Training.\n",
            "[INFO] SnowballTarget. Step: 170000. Time Elapsed: 441.563 s. Mean Reward: 23.440. Std of Reward: 2.291. Training.\n",
            "[INFO] SnowballTarget. Step: 180000. Time Elapsed: 465.081 s. Mean Reward: 23.900. Std of Reward: 2.317. Training.\n",
            "[INFO] SnowballTarget. Step: 190000. Time Elapsed: 491.137 s. Mean Reward: 24.500. Std of Reward: 2.640. Training.\n",
            "[INFO] SnowballTarget. Step: 200000. Time Elapsed: 513.079 s. Mean Reward: 24.540. Std of Reward: 1.972. Training.\n",
            "[INFO] Exported results/SnowballTarget-ppo/SnowballTarget/SnowballTarget-199800.onnx\n",
            "[INFO] SnowballTarget. Step: 210000. Time Elapsed: 541.395 s. Mean Reward: 24.880. Std of Reward: 2.582. Training.\n",
            "[INFO] SnowballTarget. Step: 220000. Time Elapsed: 564.716 s. Mean Reward: 24.500. Std of Reward: 2.156. Training.\n",
            "[INFO] SnowballTarget. Step: 230000. Time Elapsed: 593.704 s. Mean Reward: 24.740. Std of Reward: 2.028. Training.\n",
            "[INFO] SnowballTarget. Step: 240000. Time Elapsed: 621.895 s. Mean Reward: 25.620. Std of Reward: 1.989. Training.\n",
            "[INFO] SnowballTarget. Step: 250000. Time Elapsed: 644.983 s. Mean Reward: 25.300. Std of Reward: 2.508. Training.\n",
            "[INFO] Exported results/SnowballTarget-ppo/SnowballTarget/SnowballTarget-249800.onnx\n",
            "[INFO] SnowballTarget. Step: 260000. Time Elapsed: 673.609 s. Mean Reward: 24.880. Std of Reward: 1.946. Training.\n",
            "[INFO] SnowballTarget. Step: 270000. Time Elapsed: 695.676 s. Mean Reward: 24.640. Std of Reward: 3.948. Training.\n",
            "[INFO] SnowballTarget. Step: 280000. Time Elapsed: 721.824 s. Mean Reward: 25.540. Std of Reward: 2.317. Training.\n",
            "[INFO] SnowballTarget. Step: 290000. Time Elapsed: 743.812 s. Mean Reward: 25.660. Std of Reward: 2.160. Training.\n",
            "[INFO] SnowballTarget. Step: 300000. Time Elapsed: 770.595 s. Mean Reward: 25.600. Std of Reward: 2.126. Training.\n",
            "[INFO] Exported results/SnowballTarget-ppo/SnowballTarget/SnowballTarget-299800.onnx\n",
            "[INFO] SnowballTarget. Step: 310000. Time Elapsed: 792.781 s. Mean Reward: 25.400. Std of Reward: 2.324. Training.\n",
            "[INFO] SnowballTarget. Step: 320000. Time Elapsed: 819.450 s. Mean Reward: 25.420. Std of Reward: 2.699. Training.\n",
            "[INFO] SnowballTarget. Step: 330000. Time Elapsed: 841.645 s. Mean Reward: 25.820. Std of Reward: 1.830. Training.\n",
            "[INFO] SnowballTarget. Step: 340000. Time Elapsed: 868.500 s. Mean Reward: 25.900. Std of Reward: 2.052. Training.\n",
            "[INFO] SnowballTarget. Step: 350000. Time Elapsed: 895.357 s. Mean Reward: 25.320. Std of Reward: 1.849. Training.\n",
            "[INFO] Exported results/SnowballTarget-ppo/SnowballTarget/SnowballTarget-349800.onnx\n",
            "[INFO] SnowballTarget. Step: 360000. Time Elapsed: 918.641 s. Mean Reward: 26.020. Std of Reward: 2.285. Training.\n",
            "[INFO] SnowballTarget. Step: 370000. Time Elapsed: 947.526 s. Mean Reward: 25.020. Std of Reward: 2.186. Training.\n",
            "[INFO] SnowballTarget. Step: 380000. Time Elapsed: 970.002 s. Mean Reward: 25.180. Std of Reward: 2.269. Training.\n",
            "[INFO] SnowballTarget. Step: 390000. Time Elapsed: 996.933 s. Mean Reward: 25.640. Std of Reward: 2.261. Training.\n",
            "[INFO] SnowballTarget. Step: 400000. Time Elapsed: 1019.627 s. Mean Reward: 25.920. Std of Reward: 2.096. Training.\n",
            "[INFO] Exported results/SnowballTarget-ppo/SnowballTarget/SnowballTarget-399800.onnx\n",
            "[INFO] SnowballTarget. Step: 410000. Time Elapsed: 1046.728 s. Mean Reward: 26.180. Std of Reward: 2.364. Training.\n",
            "[INFO] SnowballTarget. Step: 420000. Time Elapsed: 1067.634 s. Mean Reward: 25.820. Std of Reward: 1.785. Training.\n",
            "[INFO] SnowballTarget. Step: 430000. Time Elapsed: 1094.144 s. Mean Reward: 26.140. Std of Reward: 1.918. Training.\n",
            "[INFO] SnowballTarget. Step: 440000. Time Elapsed: 1116.307 s. Mean Reward: 25.200. Std of Reward: 1.855. Training.\n",
            "[INFO] SnowballTarget. Step: 450000. Time Elapsed: 1142.698 s. Mean Reward: 25.760. Std of Reward: 2.074. Training.\n",
            "[INFO] Exported results/SnowballTarget-ppo/SnowballTarget/SnowballTarget-449800.onnx\n",
            "[INFO] SnowballTarget. Step: 460000. Time Elapsed: 1169.056 s. Mean Reward: 26.120. Std of Reward: 2.372. Training.\n",
            "[INFO] SnowballTarget. Step: 470000. Time Elapsed: 1191.055 s. Mean Reward: 25.560. Std of Reward: 1.888. Training.\n",
            "[INFO] SnowballTarget. Step: 480000. Time Elapsed: 1216.679 s. Mean Reward: 24.980. Std of Reward: 2.159. Training.\n",
            "[INFO] SnowballTarget. Step: 490000. Time Elapsed: 1238.702 s. Mean Reward: 25.620. Std of Reward: 2.323. Training.\n",
            "[INFO] SnowballTarget. Step: 500000. Time Elapsed: 1265.321 s. Mean Reward: 26.020. Std of Reward: 2.005. Training.\n",
            "[INFO] Exported results/SnowballTarget-ppo/SnowballTarget/SnowballTarget-499800.onnx\n",
            "[INFO] SnowballTarget. Step: 510000. Time Elapsed: 1287.883 s. Mean Reward: 25.420. Std of Reward: 2.089. Training.\n",
            "[INFO] SnowballTarget. Step: 520000. Time Elapsed: 1314.039 s. Mean Reward: 25.620. Std of Reward: 1.917. Training.\n",
            "[INFO] SnowballTarget. Step: 530000. Time Elapsed: 1336.086 s. Mean Reward: 25.940. Std of Reward: 2.120. Training.\n",
            "[INFO] SnowballTarget. Step: 540000. Time Elapsed: 1362.890 s. Mean Reward: 25.260. Std of Reward: 2.180. Training.\n",
            "[INFO] SnowballTarget. Step: 550000. Time Elapsed: 1384.562 s. Mean Reward: 26.440. Std of Reward: 2.201. Training.\n",
            "[INFO] Exported results/SnowballTarget-ppo/SnowballTarget/SnowballTarget-549800.onnx\n",
            "[INFO] SnowballTarget. Step: 560000. Time Elapsed: 1411.977 s. Mean Reward: 26.000. Std of Reward: 2.209. Training.\n",
            "[INFO] SnowballTarget. Step: 570000. Time Elapsed: 1439.601 s. Mean Reward: 25.620. Std of Reward: 2.271. Training.\n",
            "[INFO] SnowballTarget. Step: 580000. Time Elapsed: 1462.102 s. Mean Reward: 26.100. Std of Reward: 2.081. Training.\n",
            "[INFO] SnowballTarget. Step: 590000. Time Elapsed: 1489.289 s. Mean Reward: 25.940. Std of Reward: 2.149. Training.\n",
            "[INFO] SnowballTarget. Step: 600000. Time Elapsed: 1511.001 s. Mean Reward: 25.540. Std of Reward: 2.594. Training.\n",
            "[INFO] Exported results/SnowballTarget-ppo/SnowballTarget/SnowballTarget-599800.onnx\n",
            "[INFO] SnowballTarget. Step: 610000. Time Elapsed: 1532.249 s. Mean Reward: 25.860. Std of Reward: 2.126. Training.\n",
            "[INFO] SnowballTarget. Step: 620000. Time Elapsed: 1556.751 s. Mean Reward: 26.080. Std of Reward: 2.125. Training.\n",
            "[INFO] SnowballTarget. Step: 630000. Time Elapsed: 1581.218 s. Mean Reward: 26.020. Std of Reward: 1.860. Training.\n",
            "[INFO] SnowballTarget. Step: 640000. Time Elapsed: 1602.083 s. Mean Reward: 26.100. Std of Reward: 2.193. Training.\n",
            "[INFO] SnowballTarget. Step: 650000. Time Elapsed: 1626.950 s. Mean Reward: 26.080. Std of Reward: 2.077. Training.\n",
            "[INFO] Exported results/SnowballTarget-ppo/SnowballTarget/SnowballTarget-649800.onnx\n",
            "[INFO] SnowballTarget. Step: 660000. Time Elapsed: 1646.182 s. Mean Reward: 26.060. Std of Reward: 1.891. Training.\n",
            "[INFO] SnowballTarget. Step: 670000. Time Elapsed: 1672.360 s. Mean Reward: 26.020. Std of Reward: 2.140. Training.\n",
            "[INFO] SnowballTarget. Step: 680000. Time Elapsed: 1697.836 s. Mean Reward: 26.280. Std of Reward: 2.209. Training.\n",
            "[INFO] SnowballTarget. Step: 690000. Time Elapsed: 1719.476 s. Mean Reward: 26.180. Std of Reward: 1.740. Training.\n",
            "[INFO] SnowballTarget. Step: 700000. Time Elapsed: 1744.193 s. Mean Reward: 25.800. Std of Reward: 2.631. Training.\n",
            "[INFO] Exported results/SnowballTarget-ppo/SnowballTarget/SnowballTarget-699800.onnx\n",
            "[INFO] SnowballTarget. Step: 710000. Time Elapsed: 1766.068 s. Mean Reward: 25.720. Std of Reward: 2.245. Training.\n",
            "[INFO] SnowballTarget. Step: 720000. Time Elapsed: 1791.788 s. Mean Reward: 26.060. Std of Reward: 1.964. Training.\n",
            "[INFO] SnowballTarget. Step: 730000. Time Elapsed: 1813.383 s. Mean Reward: 26.580. Std of Reward: 1.877. Training.\n",
            "[INFO] SnowballTarget. Step: 740000. Time Elapsed: 1838.124 s. Mean Reward: 26.220. Std of Reward: 2.230. Training.\n",
            "[INFO] SnowballTarget. Step: 750000. Time Elapsed: 1859.504 s. Mean Reward: 25.980. Std of Reward: 2.285. Training.\n",
            "[INFO] Exported results/SnowballTarget-ppo/SnowballTarget/SnowballTarget-749800.onnx\n",
            "[INFO] SnowballTarget. Step: 760000. Time Elapsed: 1885.163 s. Mean Reward: 26.480. Std of Reward: 1.615. Training.\n",
            "[INFO] SnowballTarget. Step: 770000. Time Elapsed: 1909.443 s. Mean Reward: 26.500. Std of Reward: 2.508. Training.\n",
            "[INFO] SnowballTarget. Step: 780000. Time Elapsed: 1931.348 s. Mean Reward: 26.060. Std of Reward: 1.974. Training.\n",
            "[INFO] SnowballTarget. Step: 790000. Time Elapsed: 1956.443 s. Mean Reward: 25.580. Std of Reward: 1.981. Training.\n",
            "[INFO] SnowballTarget. Step: 800000. Time Elapsed: 1977.935 s. Mean Reward: 26.300. Std of Reward: 2.202. Training.\n",
            "[INFO] Exported results/SnowballTarget-ppo/SnowballTarget/SnowballTarget-799800.onnx\n",
            "[INFO] SnowballTarget. Step: 810000. Time Elapsed: 2003.246 s. Mean Reward: 26.100. Std of Reward: 2.402. Training.\n",
            "[INFO] SnowballTarget. Step: 820000. Time Elapsed: 2024.608 s. Mean Reward: 26.100. Std of Reward: 2.002. Training.\n",
            "[INFO] SnowballTarget. Step: 830000. Time Elapsed: 2049.974 s. Mean Reward: 26.140. Std of Reward: 2.030. Training.\n",
            "[INFO] SnowballTarget. Step: 840000. Time Elapsed: 2072.039 s. Mean Reward: 26.680. Std of Reward: 2.044. Training.\n",
            "[INFO] SnowballTarget. Step: 850000. Time Elapsed: 2097.364 s. Mean Reward: 26.620. Std of Reward: 2.172. Training.\n",
            "[INFO] Exported results/SnowballTarget-ppo/SnowballTarget/SnowballTarget-849800.onnx\n",
            "[INFO] SnowballTarget. Step: 860000. Time Elapsed: 2124.191 s. Mean Reward: 25.620. Std of Reward: 4.280. Training.\n",
            "[INFO] SnowballTarget. Step: 870000. Time Elapsed: 2140.640 s. Mean Reward: 26.180. Std of Reward: 1.693. Training.\n",
            "[INFO] SnowballTarget. Step: 880000. Time Elapsed: 2165.209 s. Mean Reward: 26.620. Std of Reward: 2.172. Training.\n",
            "[INFO] SnowballTarget. Step: 890000. Time Elapsed: 2188.303 s. Mean Reward: 26.580. Std of Reward: 2.183. Training.\n",
            "[INFO] SnowballTarget. Step: 900000. Time Elapsed: 2219.807 s. Mean Reward: 26.700. Std of Reward: 2.042. Training.\n",
            "[INFO] Exported results/SnowballTarget-ppo/SnowballTarget/SnowballTarget-899800.onnx\n",
            "[INFO] SnowballTarget. Step: 910000. Time Elapsed: 2241.653 s. Mean Reward: 26.340. Std of Reward: 2.075. Training.\n",
            "[INFO] SnowballTarget. Step: 920000. Time Elapsed: 2264.845 s. Mean Reward: 26.380. Std of Reward: 2.116. Training.\n",
            "[INFO] SnowballTarget. Step: 930000. Time Elapsed: 2292.533 s. Mean Reward: 26.300. Std of Reward: 1.879. Training.\n",
            "[INFO] SnowballTarget. Step: 940000. Time Elapsed: 2320.789 s. Mean Reward: 26.000. Std of Reward: 2.040. Training.\n",
            "[INFO] SnowballTarget. Step: 950000. Time Elapsed: 2337.986 s. Mean Reward: 27.060. Std of Reward: 1.837. Training.\n",
            "[INFO] Exported results/SnowballTarget-ppo/SnowballTarget/SnowballTarget-949800.onnx\n",
            "[INFO] SnowballTarget. Step: 960000. Time Elapsed: 2365.147 s. Mean Reward: 25.960. Std of Reward: 2.191. Training.\n",
            "[INFO] SnowballTarget. Step: 970000. Time Elapsed: 2392.871 s. Mean Reward: 27.120. Std of Reward: 1.862. Training.\n",
            "[INFO] SnowballTarget. Step: 980000. Time Elapsed: 2414.501 s. Mean Reward: 26.520. Std of Reward: 1.982. Training.\n",
            "[INFO] SnowballTarget. Step: 990000. Time Elapsed: 2440.991 s. Mean Reward: 26.280. Std of Reward: 2.227. Training.\n",
            "[INFO] SnowballTarget. Step: 1000000. Time Elapsed: 2467.690 s. Mean Reward: 26.360. Std of Reward: 1.863. Training.\n",
            "[INFO] Exported results/SnowballTarget-ppo/SnowballTarget/SnowballTarget-999800.onnx\n",
            "[INFO] SnowballTarget. Step: 1010000. Time Elapsed: 2493.761 s. Mean Reward: 27.060. Std of Reward: 2.082. Training.\n",
            "[INFO] SnowballTarget. Step: 1020000. Time Elapsed: 2515.641 s. Mean Reward: 27.160. Std of Reward: 1.932. Training.\n",
            "[INFO] SnowballTarget. Step: 1030000. Time Elapsed: 2540.251 s. Mean Reward: 26.320. Std of Reward: 2.083. Training.\n",
            "[INFO] SnowballTarget. Step: 1040000. Time Elapsed: 2561.965 s. Mean Reward: 26.240. Std of Reward: 2.159. Training.\n",
            "[INFO] SnowballTarget. Step: 1050000. Time Elapsed: 2587.226 s. Mean Reward: 26.680. Std of Reward: 1.760. Training.\n",
            "[INFO] Exported results/SnowballTarget-ppo/SnowballTarget/SnowballTarget-1049800.onnx\n",
            "[INFO] SnowballTarget. Step: 1060000. Time Elapsed: 2604.496 s. Mean Reward: 26.000. Std of Reward: 2.049. Training.\n",
            "[INFO] SnowballTarget. Step: 1070000. Time Elapsed: 2634.143 s. Mean Reward: 26.540. Std of Reward: 2.147. Training.\n",
            "[INFO] SnowballTarget. Step: 1080000. Time Elapsed: 2655.418 s. Mean Reward: 26.400. Std of Reward: 1.766. Training.\n",
            "[INFO] SnowballTarget. Step: 1090000. Time Elapsed: 2680.929 s. Mean Reward: 26.380. Std of Reward: 2.106. Training.\n",
            "[INFO] SnowballTarget. Step: 1100000. Time Elapsed: 2701.642 s. Mean Reward: 26.620. Std of Reward: 2.116. Training.\n",
            "[INFO] Exported results/SnowballTarget-ppo/SnowballTarget/SnowballTarget-1099800.onnx\n",
            "[INFO] SnowballTarget. Step: 1110000. Time Elapsed: 2727.073 s. Mean Reward: 26.720. Std of Reward: 1.650. Training.\n",
            "[INFO] SnowballTarget. Step: 1120000. Time Elapsed: 2754.232 s. Mean Reward: 26.800. Std of Reward: 2.366. Training.\n",
            "[INFO] SnowballTarget. Step: 1130000. Time Elapsed: 2774.560 s. Mean Reward: 26.980. Std of Reward: 2.168. Training.\n",
            "[INFO] SnowballTarget. Step: 1140000. Time Elapsed: 2799.580 s. Mean Reward: 27.100. Std of Reward: 2.369. Training.\n",
            "[INFO] SnowballTarget. Step: 1150000. Time Elapsed: 2820.636 s. Mean Reward: 26.960. Std of Reward: 1.800. Training.\n",
            "[INFO] Exported results/SnowballTarget-ppo/SnowballTarget/SnowballTarget-1149800.onnx\n",
            "[INFO] SnowballTarget. Step: 1160000. Time Elapsed: 2846.280 s. Mean Reward: 27.000. Std of Reward: 1.811. Training.\n",
            "[INFO] SnowballTarget. Step: 1170000. Time Elapsed: 2867.942 s. Mean Reward: 26.920. Std of Reward: 2.261. Training.\n",
            "[INFO] SnowballTarget. Step: 1180000. Time Elapsed: 2893.635 s. Mean Reward: 26.620. Std of Reward: 2.244. Training.\n",
            "[INFO] SnowballTarget. Step: 1190000. Time Elapsed: 2914.525 s. Mean Reward: 26.920. Std of Reward: 2.552. Training.\n",
            "[INFO] SnowballTarget. Step: 1200000. Time Elapsed: 2938.926 s. Mean Reward: 27.120. Std of Reward: 2.075. Training.\n",
            "[INFO] Exported results/SnowballTarget-ppo/SnowballTarget/SnowballTarget-1199800.onnx\n",
            "[INFO] SnowballTarget. Step: 1210000. Time Elapsed: 2965.247 s. Mean Reward: 27.180. Std of Reward: 2.278. Training.\n",
            "[INFO] SnowballTarget. Step: 1220000. Time Elapsed: 2987.062 s. Mean Reward: 26.820. Std of Reward: 2.188. Training.\n",
            "[INFO] SnowballTarget. Step: 1230000. Time Elapsed: 3011.154 s. Mean Reward: 26.300. Std of Reward: 1.879. Training.\n",
            "[INFO] SnowballTarget. Step: 1240000. Time Elapsed: 3032.965 s. Mean Reward: 26.860. Std of Reward: 2.691. Training.\n",
            "[INFO] SnowballTarget. Step: 1250000. Time Elapsed: 3054.512 s. Mean Reward: 27.380. Std of Reward: 1.731. Training.\n",
            "[INFO] Exported results/SnowballTarget-ppo/SnowballTarget/SnowballTarget-1249800.onnx\n",
            "[INFO] SnowballTarget. Step: 1260000. Time Elapsed: 3079.479 s. Mean Reward: 27.040. Std of Reward: 1.876. Training.\n",
            "[INFO] SnowballTarget. Step: 1270000. Time Elapsed: 3101.405 s. Mean Reward: 26.680. Std of Reward: 1.568. Training.\n",
            "[INFO] SnowballTarget. Step: 1280000. Time Elapsed: 3126.855 s. Mean Reward: 27.080. Std of Reward: 2.270. Training.\n",
            "[INFO] SnowballTarget. Step: 1290000. Time Elapsed: 3152.546 s. Mean Reward: 26.900. Std of Reward: 2.090. Training.\n",
            "[INFO] SnowballTarget. Step: 1300000. Time Elapsed: 3173.724 s. Mean Reward: 26.320. Std of Reward: 2.054. Training.\n",
            "[INFO] Exported results/SnowballTarget-ppo/SnowballTarget/SnowballTarget-1299800.onnx\n",
            "[INFO] SnowballTarget. Step: 1310000. Time Elapsed: 3198.845 s. Mean Reward: 26.980. Std of Reward: 1.934. Training.\n",
            "[INFO] SnowballTarget. Step: 1320000. Time Elapsed: 3219.174 s. Mean Reward: 26.760. Std of Reward: 2.074. Training.\n",
            "[INFO] SnowballTarget. Step: 1330000. Time Elapsed: 3245.010 s. Mean Reward: 26.760. Std of Reward: 2.035. Training.\n",
            "[INFO] SnowballTarget. Step: 1340000. Time Elapsed: 3269.938 s. Mean Reward: 26.800. Std of Reward: 1.939. Training.\n",
            "[INFO] SnowballTarget. Step: 1350000. Time Elapsed: 3291.950 s. Mean Reward: 26.160. Std of Reward: 2.101. Training.\n",
            "[INFO] Exported results/SnowballTarget-ppo/SnowballTarget/SnowballTarget-1349800.onnx\n",
            "[INFO] SnowballTarget. Step: 1360000. Time Elapsed: 3312.907 s. Mean Reward: 26.340. Std of Reward: 1.956. Training.\n",
            "[INFO] SnowballTarget. Step: 1370000. Time Elapsed: 3337.635 s. Mean Reward: 27.340. Std of Reward: 2.187. Training.\n",
            "[INFO] SnowballTarget. Step: 1380000. Time Elapsed: 3364.012 s. Mean Reward: 27.160. Std of Reward: 1.826. Training.\n",
            "[INFO] SnowballTarget. Step: 1390000. Time Elapsed: 3381.851 s. Mean Reward: 27.080. Std of Reward: 1.776. Training.\n",
            "[INFO] SnowballTarget. Step: 1400000. Time Elapsed: 3409.425 s. Mean Reward: 26.940. Std of Reward: 1.902. Training.\n",
            "[INFO] Exported results/SnowballTarget-ppo/SnowballTarget/SnowballTarget-1399800.onnx\n",
            "[INFO] SnowballTarget. Step: 1410000. Time Elapsed: 3435.945 s. Mean Reward: 27.360. Std of Reward: 2.456. Training.\n",
            "[INFO] SnowballTarget. Step: 1420000. Time Elapsed: 3463.627 s. Mean Reward: 27.620. Std of Reward: 1.907. Training.\n",
            "[INFO] SnowballTarget. Step: 1430000. Time Elapsed: 3485.063 s. Mean Reward: 27.280. Std of Reward: 1.929. Training.\n",
            "[INFO] SnowballTarget. Step: 1440000. Time Elapsed: 3512.271 s. Mean Reward: 27.360. Std of Reward: 1.752. Training.\n",
            "[INFO] SnowballTarget. Step: 1450000. Time Elapsed: 3539.459 s. Mean Reward: 27.000. Std of Reward: 1.897. Training.\n",
            "[INFO] Exported results/SnowballTarget-ppo/SnowballTarget/SnowballTarget-1449800.onnx\n",
            "[INFO] SnowballTarget. Step: 1460000. Time Elapsed: 3561.304 s. Mean Reward: 26.840. Std of Reward: 2.693. Training.\n",
            "[INFO] SnowballTarget. Step: 1470000. Time Elapsed: 3584.406 s. Mean Reward: 27.320. Std of Reward: 2.102. Training.\n",
            "[INFO] SnowballTarget. Step: 1480000. Time Elapsed: 3610.455 s. Mean Reward: 27.380. Std of Reward: 1.917. Training.\n",
            "[INFO] SnowballTarget. Step: 1490000. Time Elapsed: 3636.418 s. Mean Reward: 26.960. Std of Reward: 2.181. Training.\n",
            "[INFO] SnowballTarget. Step: 1500000. Time Elapsed: 3658.459 s. Mean Reward: 26.760. Std of Reward: 2.159. Training.\n",
            "[INFO] Exported results/SnowballTarget-ppo/SnowballTarget/SnowballTarget-1499800.onnx\n",
            "[INFO] SnowballTarget. Step: 1510000. Time Elapsed: 3685.584 s. Mean Reward: 27.260. Std of Reward: 1.831. Training.\n",
            "[INFO] SnowballTarget. Step: 1520000. Time Elapsed: 3707.325 s. Mean Reward: 27.200. Std of Reward: 2.135. Training.\n",
            "[INFO] SnowballTarget. Step: 1530000. Time Elapsed: 3728.461 s. Mean Reward: 27.120. Std of Reward: 1.872. Training.\n",
            "[INFO] SnowballTarget. Step: 1540000. Time Elapsed: 3753.399 s. Mean Reward: 26.640. Std of Reward: 2.431. Training.\n",
            "[INFO] SnowballTarget. Step: 1550000. Time Elapsed: 3778.220 s. Mean Reward: 27.000. Std of Reward: 1.673. Training.\n",
            "[INFO] Exported results/SnowballTarget-ppo/SnowballTarget/SnowballTarget-1549800.onnx\n",
            "[INFO] SnowballTarget. Step: 1560000. Time Elapsed: 3803.684 s. Mean Reward: 26.920. Std of Reward: 1.853. Training.\n",
            "[INFO] SnowballTarget. Step: 1570000. Time Elapsed: 3824.608 s. Mean Reward: 27.040. Std of Reward: 1.649. Training.\n",
            "[INFO] SnowballTarget. Step: 1580000. Time Elapsed: 3850.302 s. Mean Reward: 26.920. Std of Reward: 2.331. Training.\n",
            "[INFO] SnowballTarget. Step: 1590000. Time Elapsed: 3871.114 s. Mean Reward: 26.940. Std of Reward: 2.053. Training.\n",
            "[INFO] SnowballTarget. Step: 1600000. Time Elapsed: 3896.074 s. Mean Reward: 26.940. Std of Reward: 1.816. Training.\n",
            "[INFO] Exported results/SnowballTarget-ppo/SnowballTarget/SnowballTarget-1599800.onnx\n",
            "[INFO] SnowballTarget. Step: 1610000. Time Elapsed: 3920.941 s. Mean Reward: 26.580. Std of Reward: 1.888. Training.\n",
            "[INFO] SnowballTarget. Step: 1620000. Time Elapsed: 3937.645 s. Mean Reward: 27.760. Std of Reward: 2.112. Training.\n",
            "[INFO] SnowballTarget. Step: 1630000. Time Elapsed: 3962.668 s. Mean Reward: 27.040. Std of Reward: 1.788. Training.\n",
            "[INFO] SnowballTarget. Step: 1640000. Time Elapsed: 3987.879 s. Mean Reward: 27.500. Std of Reward: 2.062. Training.\n",
            "[INFO] SnowballTarget. Step: 1650000. Time Elapsed: 4008.450 s. Mean Reward: 27.320. Std of Reward: 1.794. Training.\n",
            "[INFO] Exported results/SnowballTarget-ppo/SnowballTarget/SnowballTarget-1649800.onnx\n",
            "[INFO] SnowballTarget. Step: 1660000. Time Elapsed: 4034.697 s. Mean Reward: 26.820. Std of Reward: 2.206. Training.\n",
            "[INFO] SnowballTarget. Step: 1670000. Time Elapsed: 4059.855 s. Mean Reward: 26.980. Std of Reward: 2.121. Training.\n",
            "[INFO] SnowballTarget. Step: 1680000. Time Elapsed: 4077.415 s. Mean Reward: 26.800. Std of Reward: 1.865. Training.\n",
            "[INFO] SnowballTarget. Step: 1690000. Time Elapsed: 4107.426 s. Mean Reward: 27.260. Std of Reward: 1.753. Training.\n",
            "[INFO] SnowballTarget. Step: 1700000. Time Elapsed: 4129.022 s. Mean Reward: 27.620. Std of Reward: 1.754. Training.\n",
            "[INFO] Exported results/SnowballTarget-ppo/SnowballTarget/SnowballTarget-1699800.onnx\n",
            "[INFO] SnowballTarget. Step: 1710000. Time Elapsed: 4155.295 s. Mean Reward: 27.220. Std of Reward: 1.993. Training.\n",
            "[INFO] SnowballTarget. Step: 1720000. Time Elapsed: 4177.156 s. Mean Reward: 27.280. Std of Reward: 1.733. Training.\n",
            "[INFO] SnowballTarget. Step: 1730000. Time Elapsed: 4202.264 s. Mean Reward: 27.180. Std of Reward: 1.740. Training.\n",
            "[INFO] SnowballTarget. Step: 1740000. Time Elapsed: 4223.494 s. Mean Reward: 26.720. Std of Reward: 2.136. Training.\n",
            "[INFO] SnowballTarget. Step: 1750000. Time Elapsed: 4248.148 s. Mean Reward: 27.180. Std of Reward: 1.862. Training.\n",
            "[INFO] Exported results/SnowballTarget-ppo/SnowballTarget/SnowballTarget-1749800.onnx\n",
            "[INFO] SnowballTarget. Step: 1760000. Time Elapsed: 4268.880 s. Mean Reward: 27.000. Std of Reward: 1.612. Training.\n",
            "[INFO] SnowballTarget. Step: 1770000. Time Elapsed: 4294.110 s. Mean Reward: 27.440. Std of Reward: 2.070. Training.\n",
            "[INFO] SnowballTarget. Step: 1780000. Time Elapsed: 4319.000 s. Mean Reward: 27.280. Std of Reward: 1.877. Training.\n",
            "[INFO] SnowballTarget. Step: 1790000. Time Elapsed: 4339.933 s. Mean Reward: 27.340. Std of Reward: 2.363. Training.\n",
            "[INFO] SnowballTarget. Step: 1800000. Time Elapsed: 4365.128 s. Mean Reward: 27.160. Std of Reward: 2.185. Training.\n",
            "[INFO] Exported results/SnowballTarget-ppo/SnowballTarget/SnowballTarget-1799800.onnx\n",
            "[INFO] SnowballTarget. Step: 1810000. Time Elapsed: 4387.315 s. Mean Reward: 27.040. Std of Reward: 1.907. Training.\n",
            "[INFO] SnowballTarget. Step: 1820000. Time Elapsed: 4412.695 s. Mean Reward: 27.360. Std of Reward: 1.947. Training.\n",
            "[INFO] SnowballTarget. Step: 1830000. Time Elapsed: 4434.309 s. Mean Reward: 27.220. Std of Reward: 1.911. Training.\n",
            "[INFO] SnowballTarget. Step: 1840000. Time Elapsed: 4458.867 s. Mean Reward: 27.280. Std of Reward: 2.020. Training.\n",
            "[INFO] SnowballTarget. Step: 1850000. Time Elapsed: 4480.377 s. Mean Reward: 26.840. Std of Reward: 1.748. Training.\n",
            "[INFO] Exported results/SnowballTarget-ppo/SnowballTarget/SnowballTarget-1849800.onnx\n",
            "[INFO] SnowballTarget. Step: 1860000. Time Elapsed: 4502.053 s. Mean Reward: 27.520. Std of Reward: 2.256. Training.\n",
            "[INFO] SnowballTarget. Step: 1870000. Time Elapsed: 4527.751 s. Mean Reward: 27.080. Std of Reward: 2.038. Training.\n",
            "[INFO] SnowballTarget. Step: 1880000. Time Elapsed: 4553.817 s. Mean Reward: 26.800. Std of Reward: 2.272. Training.\n",
            "[INFO] SnowballTarget. Step: 1890000. Time Elapsed: 4581.707 s. Mean Reward: 26.960. Std of Reward: 2.010. Training.\n",
            "[INFO] SnowballTarget. Step: 1900000. Time Elapsed: 4599.470 s. Mean Reward: 27.300. Std of Reward: 2.138. Training.\n",
            "[INFO] Exported results/SnowballTarget-ppo/SnowballTarget/SnowballTarget-1899800.onnx\n",
            "[INFO] SnowballTarget. Step: 1910000. Time Elapsed: 4631.681 s. Mean Reward: 27.060. Std of Reward: 1.902. Training.\n",
            "[INFO] SnowballTarget. Step: 1920000. Time Elapsed: 4648.752 s. Mean Reward: 27.380. Std of Reward: 1.907. Training.\n",
            "[INFO] SnowballTarget. Step: 1930000. Time Elapsed: 4679.800 s. Mean Reward: 26.740. Std of Reward: 2.048. Training.\n",
            "[INFO] SnowballTarget. Step: 1940000. Time Elapsed: 4700.997 s. Mean Reward: 27.340. Std of Reward: 2.006. Training.\n",
            "[INFO] SnowballTarget. Step: 1950000. Time Elapsed: 4727.914 s. Mean Reward: 27.260. Std of Reward: 2.048. Training.\n",
            "[INFO] Exported results/SnowballTarget-ppo/SnowballTarget/SnowballTarget-1949800.onnx\n",
            "[INFO] SnowballTarget. Step: 1960000. Time Elapsed: 4750.647 s. Mean Reward: 27.400. Std of Reward: 2.227. Training.\n",
            "[INFO] SnowballTarget. Step: 1970000. Time Elapsed: 4777.134 s. Mean Reward: 27.300. Std of Reward: 1.847. Training.\n",
            "[INFO] SnowballTarget. Step: 1980000. Time Elapsed: 4799.648 s. Mean Reward: 27.360. Std of Reward: 1.597. Training.\n",
            "[INFO] SnowballTarget. Step: 1990000. Time Elapsed: 4821.023 s. Mean Reward: 27.240. Std of Reward: 1.935. Training.\n",
            "[INFO] SnowballTarget. Step: 2000000. Time Elapsed: 4846.406 s. Mean Reward: 27.600. Std of Reward: 2.030. Training.\n",
            "[INFO] Exported results/SnowballTarget-ppo/SnowballTarget/SnowballTarget-1999800.onnx\n",
            "[INFO] Exported results/SnowballTarget-ppo/SnowballTarget/SnowballTarget-2001200.onnx\n",
            "[INFO] Copied results/SnowballTarget-ppo/SnowballTarget/SnowballTarget-2001200.onnx to results/SnowballTarget-ppo/SnowballTarget.onnx.\n"
          ]
        }
      ],
      "source": [
        "!mlagents-learn ./config/ppo/SnowballTarget.yaml --env=./training-envs-executables/linux/SnowballTarget/SnowballTarget --run-id=\"SnowballTarget-ppo\" --no-graphics --force"
      ]
    },
    {
      "cell_type": "code",
      "source": [
        "!mlagents-learn ./config/sac/SnowballTarget.yaml --env=./training-envs-executables/linux/SnowballTarget/SnowballTarget --run-id=\"SnowballTarget2\" --no-graphics --force"
      ],
      "metadata": {
        "id": "e92N-N64u3J3"
      },
      "execution_count": null,
      "outputs": []
    },
    {
      "cell_type": "markdown",
      "metadata": {
        "id": "5Vue94AzPy1t"
      },
      "source": [
        "### Push the agent to the 🤗 Hub\n",
        "\n",
        "- Now that we trained our agent, we’re **ready to push it to the Hub to be able to visualize it playing on your browser🔥.**"
      ]
    },
    {
      "cell_type": "markdown",
      "source": [
        "To be able to share your model with the community there are three more steps to follow:\n",
        "\n",
        "1️⃣ (If it's not already done) create an account to HF ➡ https://huggingface.co/join\n",
        "\n",
        "2️⃣ Sign in and then, you need to store your authentication token from the Hugging Face website.\n",
        "- Create a new token (https://huggingface.co/settings/tokens) **with write role**\n",
        "\n",
        "<img src=\"https://huggingface.co/datasets/huggingface-deep-rl-course/course-images/resolve/main/en/notebooks/create-token.jpg\" alt=\"Create HF Token\">\n",
        "\n",
        "- Copy the token\n",
        "- Run the cell below and paste the token"
      ],
      "metadata": {
        "id": "izT6FpgNzZ6R"
      }
    },
    {
      "cell_type": "code",
      "execution_count": null,
      "metadata": {
        "id": "rKt2vsYoK56o",
        "colab": {
          "base_uri": "https://localhost:8080/",
          "height": 145,
          "referenced_widgets": [
            "4fcbd5c6f29546bfb35b5cdf7dd8a8d9",
            "438fa5ff76174339a533e9b811115a83",
            "07c141f2c28f49fa9eae7ce6024b6d48",
            "26fba199e4744e079324b07f64f84b66",
            "103b18eddaba4bcc9c6f8c6560468ccb",
            "51cc4409a7944576b00aa0bcf75c1a23",
            "eead9c77abbd4b4d8614a8d22bda850e",
            "6c4874b9fc564b14a7fbb3e2287bc15d",
            "d809fcc9ca784e04b4a6b9c17d90c4a7",
            "b8e6e332350a4fccb0e7037560ad8920",
            "a8f5405ca7924251a4e870ea8e1974f0",
            "f0da933f1df14093aa17e59d9b4633d9",
            "36083be882734e28b55217e28c2e7481",
            "c9212047fd224cbfb0ce18dc36fbccb9",
            "f9445358e2c840f69dd721ec47961bee",
            "abd73aeb69454e07b28a2454a3e0c1be",
            "b6d5125778c34902ae08db9d5b68e44f",
            "a1817e69829e4e36b0dd3d67bced36b4",
            "51cdba0931904ac78293f727189646c2",
            "871f9c8ab16f467a95d02dd2032e5596",
            "35be8fd6c5194fdfb53cbaf35e38c9be",
            "6fb5d6664d2f4b07a827eb1432236151",
            "94821a15293643cfa5fba22bd1dc2673",
            "22ebc18716d9430abe03d2942c098f96",
            "bdd4aa112dc24504943d9919acaad401",
            "8a27be8731f048e8b95c7f23407aea30",
            "5dfdaf6289264cb0b32d0d1cae588424",
            "82ba092ed65d4484b374acbe62e57f6a",
            "e1a16913db2949ba93597c4bdb3a55f3",
            "e1447a37cd4241e095749506f012e16a",
            "3341f6ce09aa41dc81e0365285dd0b1b",
            "3ee452e7f92e4a9ba2e4fef5030df61a"
          ]
        },
        "outputId": "ba03943e-0527-447a-d28c-6730dfe33021"
      },
      "outputs": [
        {
          "output_type": "display_data",
          "data": {
            "text/plain": [
              "VBox(children=(HTML(value='<center> <img\\nsrc=https://huggingface.co/front/assets/huggingface_logo-noborder.sv…"
            ],
            "application/vnd.jupyter.widget-view+json": {
              "version_major": 2,
              "version_minor": 0,
              "model_id": "4fcbd5c6f29546bfb35b5cdf7dd8a8d9"
            }
          },
          "metadata": {}
        }
      ],
      "source": [
        "from huggingface_hub import notebook_login\n",
        "notebook_login()"
      ]
    },
    {
      "cell_type": "markdown",
      "source": [
        "If you don't want to use a Google Colab or a Jupyter Notebook, you need to use this command instead: `huggingface-cli login`"
      ],
      "metadata": {
        "id": "aSU9qD9_6dem"
      }
    },
    {
      "cell_type": "markdown",
      "source": [
        "Then, we simply need to run `mlagents-push-to-hf`.\n",
        "\n",
        "And we define 4 parameters:\n",
        "\n",
        "1. `--run-id`: the name of the training run id.\n",
        "2. `--local-dir`: where the agent was saved, it’s results/<run_id name>, so in my case results/First Training.\n",
        "3. `--repo-id`: the name of the Hugging Face repo you want to create or update. It’s always <your huggingface username>/<the repo name>\n",
        "If the repo does not exist **it will be created automatically**\n",
        "4. `--commit-message`: since HF repos are git repository you need to define a commit message.\n",
        "\n",
        "<img src=\"https://huggingface.co/datasets/huggingface-deep-rl-course/course-images/resolve/main/en/unit7/mlagentspushtohub.png\" alt=\"Push to Hub\"/>\n",
        "\n",
        "For instance:\n",
        "\n",
        "`!mlagents-push-to-hf  --run-id=\"SnowballTarget1\" --local-dir=\"./results/SnowballTarget1\" --repo-id=\"ThomasSimonini/ppo-SnowballTarget\"  --commit-message=\"First Push\"`"
      ],
      "metadata": {
        "id": "KK4fPfnczunT"
      }
    },
    {
      "cell_type": "code",
      "source": [
        "# !mlagents-push-to-hf --run-id=\"SnowballTarget1\" --local-dir=\"./results/SnowballTarget1\" --repo-id=\"ThomasSimonini/ppo-SnowballTarget\" --commit-message=\"First Push\""
      ],
      "metadata": {
        "id": "kAFzVB7OYj_H"
      },
      "execution_count": null,
      "outputs": []
    },
    {
      "cell_type": "code",
      "execution_count": null,
      "metadata": {
        "id": "dGEFAIboLVc6",
        "colab": {
          "base_uri": "https://localhost:8080/"
        },
        "outputId": "19ce8e58-19e4-4dc9-8e92-25424395a1d5"
      },
      "outputs": [
        {
          "output_type": "stream",
          "name": "stdout",
          "text": [
            "[INFO] This function will create a model card and upload your SnowballTarget-ppo into HuggingFace Hub. This is a work in progress: If you encounter a bug, please send open an issue\n",
            "[INFO] Pushing repo SnowballTarget-ppo to the Hugging Face Hub\n",
            "SnowballTarget-1599800.pt:   0% 0.00/4.66M [00:00<?, ?B/s]\n",
            "Upload 27 LFS files:   0% 0/27 [00:00<?, ?it/s]\u001b[A\n",
            "\n",
            "SnowballTarget-0.onnx:   0% 0.00/650k [00:00<?, ?B/s]\u001b[A\u001b[A\n",
            "\n",
            "\n",
            "SnowballTarget-1649800.onnx:   0% 0.00/651k [00:00<?, ?B/s]\u001b[A\u001b[A\u001b[A\n",
            "\n",
            "\n",
            "\n",
            "\n",
            "SnowballTarget-1599800.onnx:   0% 0.00/651k [00:00<?, ?B/s]\u001b[A\u001b[A\u001b[A\u001b[A\u001b[A\n",
            "\n",
            "\n",
            "\n",
            "SnowballTarget-0.pt:   0% 0.00/2.09M [00:00<?, ?B/s]\u001b[A\u001b[A\u001b[A\u001b[A\n",
            "\n",
            "SnowballTarget-0.onnx:   3% 16.4k/650k [00:00<00:09, 68.0kB/s]\u001b[A\u001b[A\n",
            "\n",
            "\n",
            "SnowballTarget-1649800.onnx:   3% 16.4k/651k [00:00<00:09, 67.9kB/s]\u001b[A\u001b[A\u001b[A\n",
            "\n",
            "\n",
            "\n",
            "\n",
            "SnowballTarget-1599800.pt:   0% 16.4k/4.66M [00:00<01:16, 60.6kB/s]\n",
            "\n",
            "\n",
            "\n",
            "SnowballTarget-1649800.onnx: 100% 651k/651k [00:00<00:00, 1.29MB/s] \n",
            "SnowballTarget-1599800.onnx: 100% 651k/651k [00:00<00:00, 1.28MB/s] \n",
            "SnowballTarget-0.onnx: 100% 650k/650k [00:00<00:00, 1.27MB/s] \n",
            "SnowballTarget-1599800.pt: 100% 4.66M/4.66M [00:00<00:00, 7.90MB/s]\n",
            "SnowballTarget-0.pt: 100% 2.09M/2.09M [00:00<00:00, 3.54MB/s]\n",
            "\n",
            "SnowballTarget-1649800.pt:   0% 0.00/4.66M [00:00<?, ?B/s]\n",
            "\n",
            "SnowballTarget-1699800.onnx:   0% 0.00/651k [00:00<?, ?B/s]\u001b[A\u001b[A\n",
            "\n",
            "\n",
            "SnowballTarget-1699800.pt:   0% 0.00/4.66M [00:00<?, ?B/s]\u001b[A\u001b[A\u001b[A\n",
            "\n",
            "\n",
            "\n",
            "SnowballTarget-1749800.onnx:   0% 0.00/651k [00:00<?, ?B/s]\u001b[A\u001b[A\u001b[A\u001b[A\n",
            "\n",
            "\n",
            "\n",
            "\n",
            "SnowballTarget-1749800.onnx: 100% 651k/651k [00:00<00:00, 2.74MB/s]\n",
            "SnowballTarget-1649800.pt: 100% 4.66M/4.66M [00:00<00:00, 14.9MB/s]\n",
            "SnowballTarget-1699800.pt: 100% 4.66M/4.66M [00:00<00:00, 16.0MB/s]\n",
            "SnowballTarget-1699800.onnx: 100% 651k/651k [00:00<00:00, 1.60MB/s]\n",
            "\n",
            "\n",
            "SnowballTarget-1749800.pt: 100% 4.66M/4.66M [00:00<00:00, 11.4MB/s]\n",
            "\n",
            "Upload 27 LFS files:  22% 6/27 [00:01<00:03,  5.34it/s]\u001b[A\n",
            "\n",
            "\n",
            "SnowballTarget-1849800.onnx:   0% 0.00/651k [00:00<?, ?B/s]\u001b[A\u001b[A\u001b[A\n",
            "\n",
            "\n",
            "\n",
            "SnowballTarget-1849800.pt:   0% 0.00/4.66M [00:00<?, ?B/s]\u001b[A\u001b[A\u001b[A\u001b[A\n",
            "\n",
            "\n",
            "\n",
            "\n",
            "SnowballTarget-1799800.onnx: 100% 651k/651k [00:00<00:00, 3.16MB/s]\n",
            "\n",
            "SnowballTarget-1799800.pt: 100% 4.66M/4.66M [00:00<00:00, 17.8MB/s]\n",
            "SnowballTarget-1899800.onnx: 100% 651k/651k [00:00<00:00, 2.92MB/s]\n",
            "\n",
            "\n",
            "SnowballTarget-1849800.onnx: 100% 651k/651k [00:00<00:00, 2.01MB/s]\n",
            "SnowballTarget-1849800.pt: 100% 4.66M/4.66M [00:00<00:00, 13.9MB/s]\n",
            "\n",
            "Upload 27 LFS files:  48% 13/27 [00:01<00:01,  9.37it/s]\u001b[A\n",
            "\n",
            "\n",
            "SnowballTarget-1949800.pt:   0% 0.00/4.66M [00:00<?, ?B/s]\u001b[A\u001b[A\u001b[A\n",
            "\n",
            "\n",
            "\n",
            "SnowballTarget-1899800.pt: 100% 4.66M/4.66M [00:00<00:00, 13.7MB/s]\n",
            "SnowballTarget-1949800.onnx: 100% 651k/651k [00:00<00:00, 2.74MB/s]\n",
            "SnowballTarget-1999800.pt:   0% 0.00/4.66M [00:00<?, ?B/s]\n",
            "\n",
            "SnowballTarget.onnx: 100% 651k/651k [00:00<00:00, 2.36MB/s]\n",
            "SnowballTarget-1949800.pt: 100% 4.66M/4.66M [00:00<00:00, 14.3MB/s]\n",
            "\n",
            "\n",
            "\n",
            "SnowballTarget-1999800.pt: 100% 4.66M/4.66M [00:00<00:00, 19.1MB/s]\n",
            "SnowballTarget-200200.onnx:   0% 0.00/651k [00:00<?, ?B/s]\n",
            "\n",
            "\n",
            "\n",
            "SnowballTarget.onnx: 100% 651k/651k [00:00<00:00, 2.25MB/s]\n",
            "\n",
            "\n",
            "checkpoint.pt:   0% 0.00/4.65M [00:00<?, ?B/s]\u001b[A\u001b[A\n",
            "Upload 27 LFS files:  56% 15/27 [00:02<00:01,  6.14it/s]\u001b[A\n",
            "\n",
            "\n",
            "\n",
            "\n",
            "SnowballTarget-200200.onnx: 100% 651k/651k [00:00<00:00, 2.40MB/s]\n",
            "SnowballTarget-2001200.pt: 100% 4.66M/4.66M [00:00<00:00, 13.5MB/s]\n",
            "SnowballTarget-200200.pt: 100% 4.66M/4.66M [00:00<00:00, 16.7MB/s]\n",
            "\n",
            "events.out.tfevents.1707215111.a3dc70f56678.22849.0: 100% 236k/236k [00:00<00:00, 1.27MB/s]\n",
            "checkpoint.pt: 100% 4.65M/4.65M [00:00<00:00, 14.3MB/s]\n",
            "SnowballTarget.onnx: 100% 651k/651k [00:00<00:00, 2.34MB/s]\n",
            "\n",
            "Upload 27 LFS files: 100% 27/27 [00:02<00:00,  9.64it/s]\n",
            "[INFO] Your model is pushed to the hub. You can view your model here: https://huggingface.co/thisiswooyeol/ppo-SnowballTarget\n"
          ]
        }
      ],
      "source": [
        "!mlagents-push-to-hf  --run-id=\"SnowballTarget-ppo\" --local-dir=\"./results/SnowballTarget-ppo\" --repo-id=\"thisiswooyeol/ppo-SnowballTarget\" --commit-message=\"SnowballTarget env. with ppo agent\""
      ]
    },
    {
      "cell_type": "markdown",
      "source": [
        "Else, if everything worked you should have this at the end of the process(but with a different url 😆) :\n",
        "\n",
        "\n",
        "\n",
        "```\n",
        "Your model is pushed to the hub. You can view your model here: https://huggingface.co/ThomasSimonini/ppo-SnowballTarget\n",
        "```\n",
        "\n",
        "It’s the link to your model, it contains a model card that explains how to use it, your Tensorboard and your config file. **What’s awesome is that it’s a git repository, that means you can have different commits, update your repository with a new push etc.**"
      ],
      "metadata": {
        "id": "yborB0850FTM"
      }
    },
    {
      "cell_type": "markdown",
      "source": [
        "But now comes the best: **being able to visualize your agent online 👀.**"
      ],
      "metadata": {
        "id": "5Uaon2cg0NrL"
      }
    },
    {
      "cell_type": "markdown",
      "source": [
        "### Watch your agent playing 👀\n",
        "\n",
        "For this step it’s simple:\n",
        "\n",
        "1. Remember your repo-id\n",
        "\n",
        "2. Go here: https://huggingface.co/spaces/ThomasSimonini/ML-Agents-SnowballTarget\n",
        "\n",
        "3. Launch the game and put it in full screen by clicking on the bottom right button\n",
        "\n",
        "<img src=\"https://huggingface.co/datasets/huggingface-deep-rl-course/course-images/resolve/main/en/unit7/snowballtarget_load.png\" alt=\"Snowballtarget load\"/>"
      ],
      "metadata": {
        "id": "VMc4oOsE0QiZ"
      }
    },
    {
      "cell_type": "markdown",
      "source": [
        "1. In step 1, choose your model repository which is the model id (in my case ThomasSimonini/ppo-SnowballTarget).\n",
        "\n",
        "2. In step 2, **choose what model you want to replay**:\n",
        "  - I have multiple one, since we saved a model every 500000 timesteps.\n",
        "  - But if I want the more recent I choose `SnowballTarget.onnx`\n",
        "\n",
        "👉 What’s nice **is to try with different models step to see the improvement of the agent.**\n",
        "\n",
        "And don't hesitate to share the best score your agent gets on discord in #rl-i-made-this channel 🔥\n",
        "\n",
        "Let's now try a harder environment called Pyramids..."
      ],
      "metadata": {
        "id": "Djs8c5rR0Z8a"
      }
    },
    {
      "cell_type": "markdown",
      "source": [
        "## Pyramids 🏆\n",
        "\n",
        "### Download and move the environment zip file in `./training-envs-executables/linux/`\n",
        "- Our environment executable is in a zip file.\n",
        "- We need to download it and place it to `./training-envs-executables/linux/`\n",
        "- We use a linux executable because we use colab, and colab machines OS is Ubuntu (linux)"
      ],
      "metadata": {
        "id": "rVMwRi4y_tmx"
      }
    },
    {
      "cell_type": "markdown",
      "metadata": {
        "id": "NyqYYkLyAVMK"
      },
      "source": [
        "Download the file Pyramids.zip from https://drive.google.com/uc?export=download&id=1UiFNdKlsH0NTu32xV-giYUEVKV4-vc7H using `wget`. Check out the full solution to download large files from GDrive [here](https://bcrf.biochem.wisc.edu/2021/02/05/download-google-drive-files-using-wget/)"
      ]
    },
    {
      "cell_type": "code",
      "execution_count": null,
      "metadata": {
        "id": "AxojCsSVAVMP"
      },
      "outputs": [],
      "source": [
        "# !wget --load-cookies /tmp/cookies.txt \"https://drive.google.com/uc?export=download&confirm=$(wget --quiet --save-cookies /tmp/cookies.txt --keep-session-cookies --no-check-certificate 'https://drive.google.com/uc?export=download&id=1UiFNdKlsH0NTu32xV-giYUEVKV4-vc7H' -O- | sed -rn 's/.*confirm=([0-9A-Za-z_]+).*/\\1\\n/p')&id=1UiFNdKlsH0NTu32xV-giYUEVKV4-vc7H\" -O ./training-envs-executables/linux/Pyramids.zip && rm -rf /tmp/cookies.txt"
      ]
    },
    {
      "cell_type": "markdown",
      "metadata": {
        "id": "bfs6CTJ1AVMP"
      },
      "source": [
        "**OR** Download directly to local machine and then drag and drop the file from local machine to `./training-envs-executables/linux`"
      ]
    },
    {
      "cell_type": "markdown",
      "metadata": {
        "id": "H7JmgOwcSSmF"
      },
      "source": [
        "Wait for the upload to finish and then run the command below.\n",
        "\n",
        "![image.png](data:image/png;base64,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)"
      ]
    },
    {
      "cell_type": "markdown",
      "source": [
        "Unzip it"
      ],
      "metadata": {
        "id": "iWUUcs0_794U"
      }
    },
    {
      "cell_type": "code",
      "execution_count": null,
      "metadata": {
        "id": "i2E3K4V2AVMP"
      },
      "outputs": [],
      "source": [
        "# Pyramids.zip is not a valid file\n",
        "# Manually download zip file and upload it\n",
        "%%capture\n",
        "!unzip -d ./training-envs-executables/linux/ ./training-envs-executables/linux/Pyramids.zip"
      ]
    },
    {
      "cell_type": "markdown",
      "metadata": {
        "id": "KmKYBgHTAVMP"
      },
      "source": [
        "Make sure your file is accessible"
      ]
    },
    {
      "cell_type": "code",
      "execution_count": null,
      "metadata": {
        "id": "Im-nwvLPAVMP"
      },
      "outputs": [],
      "source": [
        "!chmod -R 755 ./training-envs-executables/linux/Pyramids/Pyramids"
      ]
    },
    {
      "cell_type": "markdown",
      "source": [
        "###  Modify the PyramidsRND config file\n",
        "- Contrary to the first environment which was a custom one, **Pyramids was made by the Unity team**.\n",
        "- So the PyramidsRND config file already exists and is in ./content/ml-agents/config/ppo/PyramidsRND.yaml\n",
        "- You might asked why \"RND\" in PyramidsRND. RND stands for *random network distillation* it's a way to generate curiosity rewards. If you want to know more on that we wrote an article explaning this technique: https://medium.com/data-from-the-trenches/curiosity-driven-learning-through-random-network-distillation-488ffd8e5938\n",
        "\n",
        "For this training, we’ll modify one thing:\n",
        "- The total training steps hyperparameter is too high since we can hit the benchmark (mean reward = 1.75) in only 1M training steps.\n",
        "👉 To do that, we go to config/ppo/PyramidsRND.yaml,**and modify these to max_steps to 1000000.**\n",
        "\n",
        "<img src=\"https://huggingface.co/datasets/huggingface-deep-rl-course/course-images/resolve/main/en/unit7/pyramids-config.png\" alt=\"Pyramids config\"/>"
      ],
      "metadata": {
        "id": "fqceIATXAgih"
      }
    },
    {
      "cell_type": "markdown",
      "source": [
        "As an experimentation, you should also try to modify some other hyperparameters, Unity provides a very [good documentation explaining each of them here](https://github.com/Unity-Technologies/ml-agents/blob/main/docs/Training-Configuration-File.md).\n",
        "\n",
        "We’re now ready to train our agent 🔥."
      ],
      "metadata": {
        "id": "RI-5aPL7BWVk"
      }
    },
    {
      "cell_type": "markdown",
      "source": [
        "### Train the agent\n",
        "\n",
        "The training will take 30 to 45min depending on your machine, go take a ☕️you deserve it 🤗."
      ],
      "metadata": {
        "id": "s5hr1rvIBdZH"
      }
    },
    {
      "cell_type": "code",
      "execution_count": null,
      "metadata": {
        "id": "fXi4-IaHBhqD",
        "colab": {
          "base_uri": "https://localhost:8080/"
        },
        "outputId": "7e9847ab-5caf-4e39-948c-cce3f0ee6380"
      },
      "outputs": [
        {
          "output_type": "stream",
          "name": "stdout",
          "text": [
            "/usr/local/lib/python3.10/dist-packages/torch/__init__.py:690: UserWarning: torch.set_default_tensor_type() is deprecated as of PyTorch 2.1, please use torch.set_default_dtype() and torch.set_default_device() as alternatives. (Triggered internally at ../torch/csrc/tensor/python_tensor.cpp:451.)\n",
            "  _C._set_default_tensor_type(t)\n",
            "\n",
            "            ┐  ╖\n",
            "        ╓╖╬│╡  ││╬╖╖\n",
            "    ╓╖╬│││││┘  ╬│││││╬╖\n",
            " ╖╬│││││╬╜        ╙╬│││││╖╖                               ╗╗╗\n",
            " ╬╬╬╬╖││╦╖        ╖╬││╗╣╣╣╬      ╟╣╣╬    ╟╣╣╣             ╜╜╜  ╟╣╣\n",
            " ╬╬╬╬╬╬╬╬╖│╬╖╖╓╬╪│╓╣╣╣╣╣╣╣╬      ╟╣╣╬    ╟╣╣╣ ╒╣╣╖╗╣╣╣╗   ╣╣╣ ╣╣╣╣╣╣ ╟╣╣╖   ╣╣╣\n",
            " ╬╬╬╬┐  ╙╬╬╬╬│╓╣╣╣╝╜  ╫╣╣╣╬      ╟╣╣╬    ╟╣╣╣ ╟╣╣╣╙ ╙╣╣╣  ╣╣╣ ╙╟╣╣╜╙  ╫╣╣  ╟╣╣\n",
            " ╬╬╬╬┐     ╙╬╬╣╣      ╫╣╣╣╬      ╟╣╣╬    ╟╣╣╣ ╟╣╣╬   ╣╣╣  ╣╣╣  ╟╣╣     ╣╣╣┌╣╣╜\n",
            " ╬╬╬╜       ╬╬╣╣      ╙╝╣╣╬      ╙╣╣╣╗╖╓╗╣╣╣╜ ╟╣╣╬   ╣╣╣  ╣╣╣  ╟╣╣╦╓    ╣╣╣╣╣\n",
            " ╙   ╓╦╖    ╬╬╣╣   ╓╗╗╖            ╙╝╣╣╣╣╝╜   ╘╝╝╜   ╝╝╝  ╝╝╝   ╙╣╣╣    ╟╣╣╣\n",
            "   ╩╬╬╬╬╬╬╦╦╬╬╣╣╗╣╣╣╣╣╣╣╝                                             ╫╣╣╣╣\n",
            "      ╙╬╬╬╬╬╬╬╣╣╣╣╣╣╝╜\n",
            "          ╙╬╬╬╣╣╣╜\n",
            "             ╙\n",
            "        \n",
            " Version information:\n",
            "  ml-agents: 1.1.0.dev0,\n",
            "  ml-agents-envs: 1.1.0.dev0,\n",
            "  Communicator API: 1.5.0,\n",
            "  PyTorch: 2.2.0+cu121\n",
            "[INFO] Connected to Unity environment with package version 2.2.1-exp.1 and communication version 1.5.0\n",
            "[INFO] Connected new brain: Pyramids?team=0\n",
            "[INFO] Hyperparameters for behavior name Pyramids: \n",
            "\ttrainer_type:\tppo\n",
            "\thyperparameters:\t\n",
            "\t  batch_size:\t128\n",
            "\t  buffer_size:\t2048\n",
            "\t  learning_rate:\t0.0003\n",
            "\t  beta:\t0.01\n",
            "\t  epsilon:\t0.2\n",
            "\t  lambd:\t0.95\n",
            "\t  num_epoch:\t3\n",
            "\t  shared_critic:\tFalse\n",
            "\t  learning_rate_schedule:\tlinear\n",
            "\t  beta_schedule:\tlinear\n",
            "\t  epsilon_schedule:\tlinear\n",
            "\tcheckpoint_interval:\t500000\n",
            "\tnetwork_settings:\t\n",
            "\t  normalize:\tFalse\n",
            "\t  hidden_units:\t512\n",
            "\t  num_layers:\t2\n",
            "\t  vis_encode_type:\tsimple\n",
            "\t  memory:\tNone\n",
            "\t  goal_conditioning_type:\thyper\n",
            "\t  deterministic:\tFalse\n",
            "\treward_signals:\t\n",
            "\t  extrinsic:\t\n",
            "\t    gamma:\t0.99\n",
            "\t    strength:\t1.0\n",
            "\t    network_settings:\t\n",
            "\t      normalize:\tFalse\n",
            "\t      hidden_units:\t128\n",
            "\t      num_layers:\t2\n",
            "\t      vis_encode_type:\tsimple\n",
            "\t      memory:\tNone\n",
            "\t      goal_conditioning_type:\thyper\n",
            "\t      deterministic:\tFalse\n",
            "\t  rnd:\t\n",
            "\t    gamma:\t0.99\n",
            "\t    strength:\t0.01\n",
            "\t    network_settings:\t\n",
            "\t      normalize:\tFalse\n",
            "\t      hidden_units:\t64\n",
            "\t      num_layers:\t3\n",
            "\t      vis_encode_type:\tsimple\n",
            "\t      memory:\tNone\n",
            "\t      goal_conditioning_type:\thyper\n",
            "\t      deterministic:\tFalse\n",
            "\t    learning_rate:\t0.0001\n",
            "\t    encoding_size:\tNone\n",
            "\tinit_path:\tNone\n",
            "\tkeep_checkpoints:\t5\n",
            "\teven_checkpoints:\tFalse\n",
            "\tmax_steps:\t1500000\n",
            "\ttime_horizon:\t128\n",
            "\tsummary_freq:\t30000\n",
            "\tthreaded:\tFalse\n",
            "\tself_play:\tNone\n",
            "\tbehavioral_cloning:\tNone\n",
            "/usr/local/lib/python3.10/dist-packages/transformers/utils/generic.py:441: UserWarning: torch.utils._pytree._register_pytree_node is deprecated. Please use torch.utils._pytree.register_pytree_node instead.\n",
            "  _torch_pytree._register_pytree_node(\n",
            "[INFO] Resuming from results/Pyramids Training/Pyramids.\n",
            "[INFO] Resuming training from step 1200052.\n",
            "[INFO] Pyramids. Step: 1230000. Time Elapsed: 83.709 s. Mean Reward: 1.683. Std of Reward: 0.320. Training.\n",
            "[INFO] Pyramids. Step: 1260000. Time Elapsed: 161.587 s. Mean Reward: 1.668. Std of Reward: 0.415. Training.\n",
            "[INFO] Pyramids. Step: 1290000. Time Elapsed: 246.695 s. Mean Reward: 1.630. Std of Reward: 0.591. Training.\n",
            "[INFO] Pyramids. Step: 1320000. Time Elapsed: 325.682 s. Mean Reward: 1.526. Std of Reward: 0.728. Training.\n",
            "[INFO] Pyramids. Step: 1350000. Time Elapsed: 407.930 s. Mean Reward: 1.684. Std of Reward: 0.412. Training.\n",
            "[INFO] Pyramids. Step: 1380000. Time Elapsed: 487.064 s. Mean Reward: 1.619. Std of Reward: 0.564. Training.\n",
            "[INFO] Pyramids. Step: 1410000. Time Elapsed: 566.826 s. Mean Reward: 1.569. Std of Reward: 0.617. Training.\n",
            "[INFO] Pyramids. Step: 1440000. Time Elapsed: 644.932 s. Mean Reward: 1.663. Std of Reward: 0.406. Training.\n",
            "[INFO] Pyramids. Step: 1470000. Time Elapsed: 724.697 s. Mean Reward: 1.626. Std of Reward: 0.438. Training.\n",
            "[INFO] Pyramids. Step: 1500000. Time Elapsed: 804.989 s. Mean Reward: 1.678. Std of Reward: 0.316. Training.\n",
            "[INFO] Exported results/Pyramids Training/Pyramids/Pyramids-1499906.onnx\n",
            "[INFO] Exported results/Pyramids Training/Pyramids/Pyramids-1500034.onnx\n",
            "[INFO] Copied results/Pyramids Training/Pyramids/Pyramids-1500034.onnx to results/Pyramids Training/Pyramids.onnx.\n"
          ]
        }
      ],
      "source": [
        "!mlagents-learn ./config/ppo/PyramidsRND.yaml --env=./training-envs-executables/linux/Pyramids/Pyramids --run-id=\"Pyramids Training\" --no-graphics --resume"
      ]
    },
    {
      "cell_type": "markdown",
      "metadata": {
        "id": "txonKxuSByut"
      },
      "source": [
        "### Push the agent to the 🤗 Hub\n",
        "\n",
        "- Now that we trained our agent, we’re **ready to push it to the Hub to be able to visualize it playing on your browser🔥.**"
      ]
    },
    {
      "cell_type": "code",
      "source": [
        "!mlagents-push-to-hf  --run-id=\"Pyramids Training\"  --local-dir=\"./results/Pyramids Training\"  --repo-id=\"thisiswooyeol/ppo-Pyramids\" --commit-message=\"Pyramids env. with ppo agent\""
      ],
      "metadata": {
        "id": "yiEQbv7rB4mU",
        "colab": {
          "base_uri": "https://localhost:8080/"
        },
        "outputId": "2c41b53a-9215-4149-f3f3-d4309699f674"
      },
      "execution_count": null,
      "outputs": [
        {
          "output_type": "stream",
          "name": "stdout",
          "text": [
            "[INFO] This function will create a model card and upload your Pyramids Training into HuggingFace Hub. This is a work in progress: If you encounter a bug, please send open an issue\n",
            "[INFO] Pushing repo Pyramids Training to the Hugging Face Hub\n",
            "Pyramids-1200052.onnx:   0% 0.00/1.42M [00:00<?, ?B/s]\n",
            "Pyramids-1000050.pt:   0% 0.00/8.66M [00:00<?, ?B/s]\u001b[A\n",
            "\n",
            "Pyramids-1000050.onnx:   0% 0.00/1.42M [00:00<?, ?B/s]\u001b[A\u001b[A\n",
            "\n",
            "\n",
            "Pyramids-1200052.pt:   0% 0.00/8.66M [00:00<?, ?B/s]\u001b[A\u001b[A\u001b[A\n",
            "\n",
            "\n",
            "\n",
            "\n",
            "Upload 14 LFS files:   0% 0/14 [00:00<?, ?it/s]\u001b[A\u001b[A\u001b[A\u001b[A\u001b[A\n",
            "\n",
            "\n",
            "\n",
            "Pyramids.onnx:   0% 0.00/1.42M [00:00<?, ?B/s]\u001b[A\u001b[A\u001b[A\u001b[A\n",
            "\n",
            "\n",
            "\n",
            "Pyramids-1200052.onnx:   1% 16.4k/1.42M [00:00<00:22, 62.6kB/s]\n",
            "\n",
            "\n",
            "Pyramids-1200052.pt:   0% 16.4k/8.66M [00:00<02:17, 62.7kB/s]\u001b[A\u001b[A\u001b[A\n",
            "\n",
            "Pyramids-1000050.onnx:   1% 16.4k/1.42M [00:00<00:22, 61.4kB/s]\u001b[A\u001b[A\n",
            "Pyramids-1000050.pt:   0% 16.4k/8.66M [00:00<02:23, 60.1kB/s]\u001b[A\n",
            "Pyramids-1000050.pt:  42% 3.65M/8.66M [00:00<00:00, 12.5MB/s]\u001b[A\n",
            "\n",
            "\n",
            "Pyramids-1000050.onnx: 100% 1.42M/1.42M [00:00<00:00, 2.83MB/s]\n",
            "Pyramids.onnx: 100% 1.42M/1.42M [00:00<00:00, 2.73MB/s]\n",
            "Pyramids-1200052.onnx: 100% 1.42M/1.42M [00:00<00:00, 2.37MB/s]\n",
            "Pyramids-1200052.pt: 100% 8.66M/8.66M [00:00<00:00, 12.7MB/s]\n",
            "Pyramids-1000050.pt: 100% 8.66M/8.66M [00:00<00:00, 11.5MB/s]\n",
            "Pyramids-1499906.pt:   0% 0.00/8.66M [00:00<?, ?B/s]\n",
            "Pyramids.onnx:   0% 0.00/1.42M [00:00<?, ?B/s]\u001b[A\n",
            "\n",
            "Pyramids-1500034.pt:   0% 0.00/8.66M [00:00<?, ?B/s]\u001b[A\u001b[A\n",
            "\n",
            "\n",
            "\n",
            "\n",
            "Upload 14 LFS files:   7% 1/14 [00:00<00:11,  1.17it/s]\u001b[A\u001b[A\u001b[A\u001b[A\u001b[A\n",
            "\n",
            "\n",
            "Pyramids-1499906.pt:  86% 7.42M/8.66M [00:00<00:00, 65.3MB/s]\n",
            "\n",
            "Pyramids-1500034.pt:  70% 6.03M/8.66M [00:00<00:00, 55.6MB/s]\u001b[A\u001b[A\n",
            "\n",
            "\n",
            "Pyramids.onnx: 100% 1.42M/1.42M [00:00<00:00, 4.66MB/s]\n",
            "\n",
            "Pyramids-1499906.pt: 100% 8.66M/8.66M [00:00<00:00, 21.4MB/s]\n",
            "\n",
            "\n",
            "\n",
            "\n",
            "\n",
            "Pyramids-1500034.pt: 100% 8.66M/8.66M [00:00<00:00, 24.4MB/s]\n",
            "\n",
            "\n",
            "\n",
            "\n",
            "\n",
            "Upload 14 LFS files:  43% 6/14 [00:01<00:01,  7.00it/s]\u001b[A\u001b[A\u001b[A\u001b[A\u001b[A\n",
            "\n",
            "events.out.tfevents.1707225828.a3dc70f56678.68380.0: 100% 1.42k/1.42k [00:00<00:00, 9.63kB/s]\n",
            "events.out.tfevents.1707223435.a3dc70f56678.58273.0: 100% 314k/314k [00:00<00:00, 1.55MB/s]\n",
            "checkpoint.pt: 100% 8.66M/8.66M [00:00<00:00, 18.0MB/s]\n",
            "events.out.tfevents.1707225846.a3dc70f56678.68507.0: 100% 55.2k/55.2k [00:00<00:00, 403kB/s]\n",
            "\n",
            "Pyramids.onnx:   0% 0.00/1.42M [00:00<?, ?B/s]\u001b[A\n",
            "\n",
            "\n",
            "\n",
            "\n",
            "events.out.tfevents.1707226401.a3dc70f56678.70903.0: 100% 105k/105k [00:00<00:00, 807kB/s]\n",
            "\n",
            "\n",
            "\n",
            "\n",
            "\n",
            "Pyramids.onnx: 100% 1.42M/1.42M [00:00<00:00, 6.33MB/s]\n",
            "Upload 14 LFS files: 100% 14/14 [00:01<00:00,  8.25it/s]\n",
            "[INFO] Your model is pushed to the hub. You can view your model here: https://huggingface.co/thisiswooyeol/ppo-Pyramids\n"
          ]
        }
      ]
    },
    {
      "cell_type": "markdown",
      "source": [
        "### Watch your agent playing 👀\n",
        "\n",
        "👉 https://huggingface.co/spaces/unity/ML-Agents-Pyramids"
      ],
      "metadata": {
        "id": "7aZfgxo-CDeQ"
      }
    },
    {
      "cell_type": "markdown",
      "source": [
        "### 🎁 Bonus: Why not train on another environment?\n",
        "Now that you know how to train an agent using MLAgents, **why not try another environment?**\n",
        "\n",
        "MLAgents provides 17 different and we’re building some custom ones. The best way to learn is to try things of your own, have fun.\n",
        "\n"
      ],
      "metadata": {
        "id": "hGG_oq2n0wjB"
      }
    },
    {
      "cell_type": "markdown",
      "source": [
        "![cover](https://miro.medium.com/max/1400/0*xERdThTRRM2k_U9f.png)"
      ],
      "metadata": {
        "id": "KSAkJxSr0z6-"
      }
    },
    {
      "cell_type": "markdown",
      "source": [
        "You have the full list of the Unity official environments here 👉 https://github.com/Unity-Technologies/ml-agents/blob/develop/docs/Learning-Environment-Examples.md\n",
        "\n",
        "For the demos to visualize your agent 👉 https://huggingface.co/unity\n",
        "\n",
        "For now we have integrated:\n",
        "- [Worm](https://huggingface.co/spaces/unity/ML-Agents-Worm) demo where you teach a **worm to crawl**.\n",
        "- [Walker](https://huggingface.co/spaces/unity/ML-Agents-Walker) demo where you teach an agent **to walk towards a goal**."
      ],
      "metadata": {
        "id": "YiyF4FX-04JB"
      }
    },
    {
      "cell_type": "markdown",
      "source": [
        "That’s all for today. Congrats on finishing this tutorial!\n",
        "\n",
        "The best way to learn is to practice and try stuff. Why not try another environment? ML-Agents has 17 different environments, but you can also create your own? Check the documentation and have fun!\n",
        "\n",
        "See you on Unit 6 🔥,\n",
        "\n",
        "## Keep Learning, Stay  awesome 🤗"
      ],
      "metadata": {
        "id": "PI6dPWmh064H"
      }
    }
  ],
  "metadata": {
    "accelerator": "GPU",
    "colab": {
      "provenance": [],
      "gpuType": "T4",
      "include_colab_link": true
    },
    "kernelspec": {
      "display_name": "Python 3",
      "name": "python3"
    },
    "language_info": {
      "name": "python"
    },
    "widgets": {
      "application/vnd.jupyter.widget-state+json": {
        "4fcbd5c6f29546bfb35b5cdf7dd8a8d9": {
          "model_module": "@jupyter-widgets/controls",
          "model_name": "VBoxModel",
          "model_module_version": "1.5.0",
          "state": {
            "_dom_classes": [],
            "_model_module": "@jupyter-widgets/controls",
            "_model_module_version": "1.5.0",
            "_model_name": "VBoxModel",
            "_view_count": null,
            "_view_module": "@jupyter-widgets/controls",
            "_view_module_version": "1.5.0",
            "_view_name": "VBoxView",
            "box_style": "",
            "children": [
              "IPY_MODEL_35be8fd6c5194fdfb53cbaf35e38c9be",
              "IPY_MODEL_6fb5d6664d2f4b07a827eb1432236151",
              "IPY_MODEL_94821a15293643cfa5fba22bd1dc2673",
              "IPY_MODEL_22ebc18716d9430abe03d2942c098f96"
            ],
            "layout": "IPY_MODEL_eead9c77abbd4b4d8614a8d22bda850e"
          }
        },
        "438fa5ff76174339a533e9b811115a83": {
          "model_module": "@jupyter-widgets/controls",
          "model_name": "HTMLModel",
          "model_module_version": "1.5.0",
          "state": {
            "_dom_classes": [],
            "_model_module": "@jupyter-widgets/controls",
            "_model_module_version": "1.5.0",
            "_model_name": "HTMLModel",
            "_view_count": null,
            "_view_module": "@jupyter-widgets/controls",
            "_view_module_version": "1.5.0",
            "_view_name": "HTMLView",
            "description": "",
            "description_tooltip": null,
            "layout": "IPY_MODEL_6c4874b9fc564b14a7fbb3e2287bc15d",
            "placeholder": "​",
            "style": "IPY_MODEL_d809fcc9ca784e04b4a6b9c17d90c4a7",
            "value": "<center> <img\nsrc=https://huggingface.co/front/assets/huggingface_logo-noborder.svg\nalt='Hugging Face'> <br> Copy a token from <a\nhref=\"https://huggingface.co/settings/tokens\" target=\"_blank\">your Hugging Face\ntokens page</a> and paste it below. <br> Immediately click login after copying\nyour token or it might be stored in plain text in this notebook file. </center>"
          }
        },
        "07c141f2c28f49fa9eae7ce6024b6d48": {
          "model_module": "@jupyter-widgets/controls",
          "model_name": "PasswordModel",
          "model_module_version": "1.5.0",
          "state": {
            "_dom_classes": [],
            "_model_module": "@jupyter-widgets/controls",
            "_model_module_version": "1.5.0",
            "_model_name": "PasswordModel",
            "_view_count": null,
            "_view_module": "@jupyter-widgets/controls",
            "_view_module_version": "1.5.0",
            "_view_name": "PasswordView",
            "continuous_update": true,
            "description": "Token:",
            "description_tooltip": null,
            "disabled": false,
            "layout": "IPY_MODEL_b8e6e332350a4fccb0e7037560ad8920",
            "placeholder": "​",
            "style": "IPY_MODEL_a8f5405ca7924251a4e870ea8e1974f0",
            "value": ""
          }
        },
        "26fba199e4744e079324b07f64f84b66": {
          "model_module": "@jupyter-widgets/controls",
          "model_name": "CheckboxModel",
          "model_module_version": "1.5.0",
          "state": {
            "_dom_classes": [],
            "_model_module": "@jupyter-widgets/controls",
            "_model_module_version": "1.5.0",
            "_model_name": "CheckboxModel",
            "_view_count": null,
            "_view_module": "@jupyter-widgets/controls",
            "_view_module_version": "1.5.0",
            "_view_name": "CheckboxView",
            "description": "Add token as git credential?",
            "description_tooltip": null,
            "disabled": false,
            "indent": true,
            "layout": "IPY_MODEL_f0da933f1df14093aa17e59d9b4633d9",
            "style": "IPY_MODEL_36083be882734e28b55217e28c2e7481",
            "value": true
          }
        },
        "103b18eddaba4bcc9c6f8c6560468ccb": {
          "model_module": "@jupyter-widgets/controls",
          "model_name": "ButtonModel",
          "model_module_version": "1.5.0",
          "state": {
            "_dom_classes": [],
            "_model_module": "@jupyter-widgets/controls",
            "_model_module_version": "1.5.0",
            "_model_name": "ButtonModel",
            "_view_count": null,
            "_view_module": "@jupyter-widgets/controls",
            "_view_module_version": "1.5.0",
            "_view_name": "ButtonView",
            "button_style": "",
            "description": "Login",
            "disabled": false,
            "icon": "",
            "layout": "IPY_MODEL_c9212047fd224cbfb0ce18dc36fbccb9",
            "style": "IPY_MODEL_f9445358e2c840f69dd721ec47961bee",
            "tooltip": ""
          }
        },
        "51cc4409a7944576b00aa0bcf75c1a23": {
          "model_module": "@jupyter-widgets/controls",
          "model_name": "HTMLModel",
          "model_module_version": "1.5.0",
          "state": {
            "_dom_classes": [],
            "_model_module": "@jupyter-widgets/controls",
            "_model_module_version": "1.5.0",
            "_model_name": "HTMLModel",
            "_view_count": null,
            "_view_module": "@jupyter-widgets/controls",
            "_view_module_version": "1.5.0",
            "_view_name": "HTMLView",
            "description": "",
            "description_tooltip": null,
            "layout": "IPY_MODEL_abd73aeb69454e07b28a2454a3e0c1be",
            "placeholder": "​",
            "style": "IPY_MODEL_b6d5125778c34902ae08db9d5b68e44f",
            "value": "\n<b>Pro Tip:</b> If you don't already have one, you can create a dedicated\n'notebooks' token with 'write' access, that you can then easily reuse for all\nnotebooks. </center>"
          }
        },
        "eead9c77abbd4b4d8614a8d22bda850e": {
          "model_module": "@jupyter-widgets/base",
          "model_name": "LayoutModel",
          "model_module_version": "1.2.0",
          "state": {
            "_model_module": "@jupyter-widgets/base",
            "_model_module_version": "1.2.0",
            "_model_name": "LayoutModel",
            "_view_count": null,
            "_view_module": "@jupyter-widgets/base",
            "_view_module_version": "1.2.0",
            "_view_name": "LayoutView",
            "align_content": null,
            "align_items": "center",
            "align_self": null,
            "border": null,
            "bottom": null,
            "display": "flex",
            "flex": null,
            "flex_flow": "column",
            "grid_area": null,
            "grid_auto_columns": null,
            "grid_auto_flow": null,
            "grid_auto_rows": null,
            "grid_column": null,
            "grid_gap": null,
            "grid_row": null,
            "grid_template_areas": null,
            "grid_template_columns": null,
            "grid_template_rows": null,
            "height": null,
            "justify_content": null,
            "justify_items": null,
            "left": null,
            "margin": null,
            "max_height": null,
            "max_width": null,
            "min_height": null,
            "min_width": null,
            "object_fit": null,
            "object_position": null,
            "order": null,
            "overflow": null,
            "overflow_x": null,
            "overflow_y": null,
            "padding": null,
            "right": null,
            "top": null,
            "visibility": null,
            "width": "50%"
          }
        },
        "6c4874b9fc564b14a7fbb3e2287bc15d": {
          "model_module": "@jupyter-widgets/base",
          "model_name": "LayoutModel",
          "model_module_version": "1.2.0",
          "state": {
            "_model_module": "@jupyter-widgets/base",
            "_model_module_version": "1.2.0",
            "_model_name": "LayoutModel",
            "_view_count": null,
            "_view_module": "@jupyter-widgets/base",
            "_view_module_version": "1.2.0",
            "_view_name": "LayoutView",
            "align_content": null,
            "align_items": null,
            "align_self": null,
            "border": null,
            "bottom": null,
            "display": null,
            "flex": null,
            "flex_flow": null,
            "grid_area": null,
            "grid_auto_columns": null,
            "grid_auto_flow": null,
            "grid_auto_rows": null,
            "grid_column": null,
            "grid_gap": null,
            "grid_row": null,
            "grid_template_areas": null,
            "grid_template_columns": null,
            "grid_template_rows": null,
            "height": null,
            "justify_content": null,
            "justify_items": null,
            "left": null,
            "margin": null,
            "max_height": null,
            "max_width": null,
            "min_height": null,
            "min_width": null,
            "object_fit": null,
            "object_position": null,
            "order": null,
            "overflow": null,
            "overflow_x": null,
            "overflow_y": null,
            "padding": null,
            "right": null,
            "top": null,
            "visibility": null,
            "width": null
          }
        },
        "d809fcc9ca784e04b4a6b9c17d90c4a7": {
          "model_module": "@jupyter-widgets/controls",
          "model_name": "DescriptionStyleModel",
          "model_module_version": "1.5.0",
          "state": {
            "_model_module": "@jupyter-widgets/controls",
            "_model_module_version": "1.5.0",
            "_model_name": "DescriptionStyleModel",
            "_view_count": null,
            "_view_module": "@jupyter-widgets/base",
            "_view_module_version": "1.2.0",
            "_view_name": "StyleView",
            "description_width": ""
          }
        },
        "b8e6e332350a4fccb0e7037560ad8920": {
          "model_module": "@jupyter-widgets/base",
          "model_name": "LayoutModel",
          "model_module_version": "1.2.0",
          "state": {
            "_model_module": "@jupyter-widgets/base",
            "_model_module_version": "1.2.0",
            "_model_name": "LayoutModel",
            "_view_count": null,
            "_view_module": "@jupyter-widgets/base",
            "_view_module_version": "1.2.0",
            "_view_name": "LayoutView",
            "align_content": null,
            "align_items": null,
            "align_self": null,
            "border": null,
            "bottom": null,
            "display": null,
            "flex": null,
            "flex_flow": null,
            "grid_area": null,
            "grid_auto_columns": null,
            "grid_auto_flow": null,
            "grid_auto_rows": null,
            "grid_column": null,
            "grid_gap": null,
            "grid_row": null,
            "grid_template_areas": null,
            "grid_template_columns": null,
            "grid_template_rows": null,
            "height": null,
            "justify_content": null,
            "justify_items": null,
            "left": null,
            "margin": null,
            "max_height": null,
            "max_width": null,
            "min_height": null,
            "min_width": null,
            "object_fit": null,
            "object_position": null,
            "order": null,
            "overflow": null,
            "overflow_x": null,
            "overflow_y": null,
            "padding": null,
            "right": null,
            "top": null,
            "visibility": null,
            "width": null
          }
        },
        "a8f5405ca7924251a4e870ea8e1974f0": {
          "model_module": "@jupyter-widgets/controls",
          "model_name": "DescriptionStyleModel",
          "model_module_version": "1.5.0",
          "state": {
            "_model_module": "@jupyter-widgets/controls",
            "_model_module_version": "1.5.0",
            "_model_name": "DescriptionStyleModel",
            "_view_count": null,
            "_view_module": "@jupyter-widgets/base",
            "_view_module_version": "1.2.0",
            "_view_name": "StyleView",
            "description_width": ""
          }
        },
        "f0da933f1df14093aa17e59d9b4633d9": {
          "model_module": "@jupyter-widgets/base",
          "model_name": "LayoutModel",
          "model_module_version": "1.2.0",
          "state": {
            "_model_module": "@jupyter-widgets/base",
            "_model_module_version": "1.2.0",
            "_model_name": "LayoutModel",
            "_view_count": null,
            "_view_module": "@jupyter-widgets/base",
            "_view_module_version": "1.2.0",
            "_view_name": "LayoutView",
            "align_content": null,
            "align_items": null,
            "align_self": null,
            "border": null,
            "bottom": null,
            "display": null,
            "flex": null,
            "flex_flow": null,
            "grid_area": null,
            "grid_auto_columns": null,
            "grid_auto_flow": null,
            "grid_auto_rows": null,
            "grid_column": null,
            "grid_gap": null,
            "grid_row": null,
            "grid_template_areas": null,
            "grid_template_columns": null,
            "grid_template_rows": null,
            "height": null,
            "justify_content": null,
            "justify_items": null,
            "left": null,
            "margin": null,
            "max_height": null,
            "max_width": null,
            "min_height": null,
            "min_width": null,
            "object_fit": null,
            "object_position": null,
            "order": null,
            "overflow": null,
            "overflow_x": null,
            "overflow_y": null,
            "padding": null,
            "right": null,
            "top": null,
            "visibility": null,
            "width": null
          }
        },
        "36083be882734e28b55217e28c2e7481": {
          "model_module": "@jupyter-widgets/controls",
          "model_name": "DescriptionStyleModel",
          "model_module_version": "1.5.0",
          "state": {
            "_model_module": "@jupyter-widgets/controls",
            "_model_module_version": "1.5.0",
            "_model_name": "DescriptionStyleModel",
            "_view_count": null,
            "_view_module": "@jupyter-widgets/base",
            "_view_module_version": "1.2.0",
            "_view_name": "StyleView",
            "description_width": ""
          }
        },
        "c9212047fd224cbfb0ce18dc36fbccb9": {
          "model_module": "@jupyter-widgets/base",
          "model_name": "LayoutModel",
          "model_module_version": "1.2.0",
          "state": {
            "_model_module": "@jupyter-widgets/base",
            "_model_module_version": "1.2.0",
            "_model_name": "LayoutModel",
            "_view_count": null,
            "_view_module": "@jupyter-widgets/base",
            "_view_module_version": "1.2.0",
            "_view_name": "LayoutView",
            "align_content": null,
            "align_items": null,
            "align_self": null,
            "border": null,
            "bottom": null,
            "display": null,
            "flex": null,
            "flex_flow": null,
            "grid_area": null,
            "grid_auto_columns": null,
            "grid_auto_flow": null,
            "grid_auto_rows": null,
            "grid_column": null,
            "grid_gap": null,
            "grid_row": null,
            "grid_template_areas": null,
            "grid_template_columns": null,
            "grid_template_rows": null,
            "height": null,
            "justify_content": null,
            "justify_items": null,
            "left": null,
            "margin": null,
            "max_height": null,
            "max_width": null,
            "min_height": null,
            "min_width": null,
            "object_fit": null,
            "object_position": null,
            "order": null,
            "overflow": null,
            "overflow_x": null,
            "overflow_y": null,
            "padding": null,
            "right": null,
            "top": null,
            "visibility": null,
            "width": null
          }
        },
        "f9445358e2c840f69dd721ec47961bee": {
          "model_module": "@jupyter-widgets/controls",
          "model_name": "ButtonStyleModel",
          "model_module_version": "1.5.0",
          "state": {
            "_model_module": "@jupyter-widgets/controls",
            "_model_module_version": "1.5.0",
            "_model_name": "ButtonStyleModel",
            "_view_count": null,
            "_view_module": "@jupyter-widgets/base",
            "_view_module_version": "1.2.0",
            "_view_name": "StyleView",
            "button_color": null,
            "font_weight": ""
          }
        },
        "abd73aeb69454e07b28a2454a3e0c1be": {
          "model_module": "@jupyter-widgets/base",
          "model_name": "LayoutModel",
          "model_module_version": "1.2.0",
          "state": {
            "_model_module": "@jupyter-widgets/base",
            "_model_module_version": "1.2.0",
            "_model_name": "LayoutModel",
            "_view_count": null,
            "_view_module": "@jupyter-widgets/base",
            "_view_module_version": "1.2.0",
            "_view_name": "LayoutView",
            "align_content": null,
            "align_items": null,
            "align_self": null,
            "border": null,
            "bottom": null,
            "display": null,
            "flex": null,
            "flex_flow": null,
            "grid_area": null,
            "grid_auto_columns": null,
            "grid_auto_flow": null,
            "grid_auto_rows": null,
            "grid_column": null,
            "grid_gap": null,
            "grid_row": null,
            "grid_template_areas": null,
            "grid_template_columns": null,
            "grid_template_rows": null,
            "height": null,
            "justify_content": null,
            "justify_items": null,
            "left": null,
            "margin": null,
            "max_height": null,
            "max_width": null,
            "min_height": null,
            "min_width": null,
            "object_fit": null,
            "object_position": null,
            "order": null,
            "overflow": null,
            "overflow_x": null,
            "overflow_y": null,
            "padding": null,
            "right": null,
            "top": null,
            "visibility": null,
            "width": null
          }
        },
        "b6d5125778c34902ae08db9d5b68e44f": {
          "model_module": "@jupyter-widgets/controls",
          "model_name": "DescriptionStyleModel",
          "model_module_version": "1.5.0",
          "state": {
            "_model_module": "@jupyter-widgets/controls",
            "_model_module_version": "1.5.0",
            "_model_name": "DescriptionStyleModel",
            "_view_count": null,
            "_view_module": "@jupyter-widgets/base",
            "_view_module_version": "1.2.0",
            "_view_name": "StyleView",
            "description_width": ""
          }
        },
        "a1817e69829e4e36b0dd3d67bced36b4": {
          "model_module": "@jupyter-widgets/controls",
          "model_name": "LabelModel",
          "model_module_version": "1.5.0",
          "state": {
            "_dom_classes": [],
            "_model_module": "@jupyter-widgets/controls",
            "_model_module_version": "1.5.0",
            "_model_name": "LabelModel",
            "_view_count": null,
            "_view_module": "@jupyter-widgets/controls",
            "_view_module_version": "1.5.0",
            "_view_name": "LabelView",
            "description": "",
            "description_tooltip": null,
            "layout": "IPY_MODEL_51cdba0931904ac78293f727189646c2",
            "placeholder": "​",
            "style": "IPY_MODEL_871f9c8ab16f467a95d02dd2032e5596",
            "value": "Connecting..."
          }
        },
        "51cdba0931904ac78293f727189646c2": {
          "model_module": "@jupyter-widgets/base",
          "model_name": "LayoutModel",
          "model_module_version": "1.2.0",
          "state": {
            "_model_module": "@jupyter-widgets/base",
            "_model_module_version": "1.2.0",
            "_model_name": "LayoutModel",
            "_view_count": null,
            "_view_module": "@jupyter-widgets/base",
            "_view_module_version": "1.2.0",
            "_view_name": "LayoutView",
            "align_content": null,
            "align_items": null,
            "align_self": null,
            "border": null,
            "bottom": null,
            "display": null,
            "flex": null,
            "flex_flow": null,
            "grid_area": null,
            "grid_auto_columns": null,
            "grid_auto_flow": null,
            "grid_auto_rows": null,
            "grid_column": null,
            "grid_gap": null,
            "grid_row": null,
            "grid_template_areas": null,
            "grid_template_columns": null,
            "grid_template_rows": null,
            "height": null,
            "justify_content": null,
            "justify_items": null,
            "left": null,
            "margin": null,
            "max_height": null,
            "max_width": null,
            "min_height": null,
            "min_width": null,
            "object_fit": null,
            "object_position": null,
            "order": null,
            "overflow": null,
            "overflow_x": null,
            "overflow_y": null,
            "padding": null,
            "right": null,
            "top": null,
            "visibility": null,
            "width": null
          }
        },
        "871f9c8ab16f467a95d02dd2032e5596": {
          "model_module": "@jupyter-widgets/controls",
          "model_name": "DescriptionStyleModel",
          "model_module_version": "1.5.0",
          "state": {
            "_model_module": "@jupyter-widgets/controls",
            "_model_module_version": "1.5.0",
            "_model_name": "DescriptionStyleModel",
            "_view_count": null,
            "_view_module": "@jupyter-widgets/base",
            "_view_module_version": "1.2.0",
            "_view_name": "StyleView",
            "description_width": ""
          }
        },
        "35be8fd6c5194fdfb53cbaf35e38c9be": {
          "model_module": "@jupyter-widgets/controls",
          "model_name": "LabelModel",
          "model_module_version": "1.5.0",
          "state": {
            "_dom_classes": [],
            "_model_module": "@jupyter-widgets/controls",
            "_model_module_version": "1.5.0",
            "_model_name": "LabelModel",
            "_view_count": null,
            "_view_module": "@jupyter-widgets/controls",
            "_view_module_version": "1.5.0",
            "_view_name": "LabelView",
            "description": "",
            "description_tooltip": null,
            "layout": "IPY_MODEL_bdd4aa112dc24504943d9919acaad401",
            "placeholder": "​",
            "style": "IPY_MODEL_8a27be8731f048e8b95c7f23407aea30",
            "value": "Token is valid (permission: write)."
          }
        },
        "6fb5d6664d2f4b07a827eb1432236151": {
          "model_module": "@jupyter-widgets/controls",
          "model_name": "LabelModel",
          "model_module_version": "1.5.0",
          "state": {
            "_dom_classes": [],
            "_model_module": "@jupyter-widgets/controls",
            "_model_module_version": "1.5.0",
            "_model_name": "LabelModel",
            "_view_count": null,
            "_view_module": "@jupyter-widgets/controls",
            "_view_module_version": "1.5.0",
            "_view_name": "LabelView",
            "description": "",
            "description_tooltip": null,
            "layout": "IPY_MODEL_5dfdaf6289264cb0b32d0d1cae588424",
            "placeholder": "​",
            "style": "IPY_MODEL_82ba092ed65d4484b374acbe62e57f6a",
            "value": "Your token has been saved in your configured git credential helpers (store)."
          }
        },
        "94821a15293643cfa5fba22bd1dc2673": {
          "model_module": "@jupyter-widgets/controls",
          "model_name": "LabelModel",
          "model_module_version": "1.5.0",
          "state": {
            "_dom_classes": [],
            "_model_module": "@jupyter-widgets/controls",
            "_model_module_version": "1.5.0",
            "_model_name": "LabelModel",
            "_view_count": null,
            "_view_module": "@jupyter-widgets/controls",
            "_view_module_version": "1.5.0",
            "_view_name": "LabelView",
            "description": "",
            "description_tooltip": null,
            "layout": "IPY_MODEL_e1a16913db2949ba93597c4bdb3a55f3",
            "placeholder": "​",
            "style": "IPY_MODEL_e1447a37cd4241e095749506f012e16a",
            "value": "Your token has been saved to /root/.cache/huggingface/token"
          }
        },
        "22ebc18716d9430abe03d2942c098f96": {
          "model_module": "@jupyter-widgets/controls",
          "model_name": "LabelModel",
          "model_module_version": "1.5.0",
          "state": {
            "_dom_classes": [],
            "_model_module": "@jupyter-widgets/controls",
            "_model_module_version": "1.5.0",
            "_model_name": "LabelModel",
            "_view_count": null,
            "_view_module": "@jupyter-widgets/controls",
            "_view_module_version": "1.5.0",
            "_view_name": "LabelView",
            "description": "",
            "description_tooltip": null,
            "layout": "IPY_MODEL_3341f6ce09aa41dc81e0365285dd0b1b",
            "placeholder": "​",
            "style": "IPY_MODEL_3ee452e7f92e4a9ba2e4fef5030df61a",
            "value": "Login successful"
          }
        },
        "bdd4aa112dc24504943d9919acaad401": {
          "model_module": "@jupyter-widgets/base",
          "model_name": "LayoutModel",
          "model_module_version": "1.2.0",
          "state": {
            "_model_module": "@jupyter-widgets/base",
            "_model_module_version": "1.2.0",
            "_model_name": "LayoutModel",
            "_view_count": null,
            "_view_module": "@jupyter-widgets/base",
            "_view_module_version": "1.2.0",
            "_view_name": "LayoutView",
            "align_content": null,
            "align_items": null,
            "align_self": null,
            "border": null,
            "bottom": null,
            "display": null,
            "flex": null,
            "flex_flow": null,
            "grid_area": null,
            "grid_auto_columns": null,
            "grid_auto_flow": null,
            "grid_auto_rows": null,
            "grid_column": null,
            "grid_gap": null,
            "grid_row": null,
            "grid_template_areas": null,
            "grid_template_columns": null,
            "grid_template_rows": null,
            "height": null,
            "justify_content": null,
            "justify_items": null,
            "left": null,
            "margin": null,
            "max_height": null,
            "max_width": null,
            "min_height": null,
            "min_width": null,
            "object_fit": null,
            "object_position": null,
            "order": null,
            "overflow": null,
            "overflow_x": null,
            "overflow_y": null,
            "padding": null,
            "right": null,
            "top": null,
            "visibility": null,
            "width": null
          }
        },
        "8a27be8731f048e8b95c7f23407aea30": {
          "model_module": "@jupyter-widgets/controls",
          "model_name": "DescriptionStyleModel",
          "model_module_version": "1.5.0",
          "state": {
            "_model_module": "@jupyter-widgets/controls",
            "_model_module_version": "1.5.0",
            "_model_name": "DescriptionStyleModel",
            "_view_count": null,
            "_view_module": "@jupyter-widgets/base",
            "_view_module_version": "1.2.0",
            "_view_name": "StyleView",
            "description_width": ""
          }
        },
        "5dfdaf6289264cb0b32d0d1cae588424": {
          "model_module": "@jupyter-widgets/base",
          "model_name": "LayoutModel",
          "model_module_version": "1.2.0",
          "state": {
            "_model_module": "@jupyter-widgets/base",
            "_model_module_version": "1.2.0",
            "_model_name": "LayoutModel",
            "_view_count": null,
            "_view_module": "@jupyter-widgets/base",
            "_view_module_version": "1.2.0",
            "_view_name": "LayoutView",
            "align_content": null,
            "align_items": null,
            "align_self": null,
            "border": null,
            "bottom": null,
            "display": null,
            "flex": null,
            "flex_flow": null,
            "grid_area": null,
            "grid_auto_columns": null,
            "grid_auto_flow": null,
            "grid_auto_rows": null,
            "grid_column": null,
            "grid_gap": null,
            "grid_row": null,
            "grid_template_areas": null,
            "grid_template_columns": null,
            "grid_template_rows": null,
            "height": null,
            "justify_content": null,
            "justify_items": null,
            "left": null,
            "margin": null,
            "max_height": null,
            "max_width": null,
            "min_height": null,
            "min_width": null,
            "object_fit": null,
            "object_position": null,
            "order": null,
            "overflow": null,
            "overflow_x": null,
            "overflow_y": null,
            "padding": null,
            "right": null,
            "top": null,
            "visibility": null,
            "width": null
          }
        },
        "82ba092ed65d4484b374acbe62e57f6a": {
          "model_module": "@jupyter-widgets/controls",
          "model_name": "DescriptionStyleModel",
          "model_module_version": "1.5.0",
          "state": {
            "_model_module": "@jupyter-widgets/controls",
            "_model_module_version": "1.5.0",
            "_model_name": "DescriptionStyleModel",
            "_view_count": null,
            "_view_module": "@jupyter-widgets/base",
            "_view_module_version": "1.2.0",
            "_view_name": "StyleView",
            "description_width": ""
          }
        },
        "e1a16913db2949ba93597c4bdb3a55f3": {
          "model_module": "@jupyter-widgets/base",
          "model_name": "LayoutModel",
          "model_module_version": "1.2.0",
          "state": {
            "_model_module": "@jupyter-widgets/base",
            "_model_module_version": "1.2.0",
            "_model_name": "LayoutModel",
            "_view_count": null,
            "_view_module": "@jupyter-widgets/base",
            "_view_module_version": "1.2.0",
            "_view_name": "LayoutView",
            "align_content": null,
            "align_items": null,
            "align_self": null,
            "border": null,
            "bottom": null,
            "display": null,
            "flex": null,
            "flex_flow": null,
            "grid_area": null,
            "grid_auto_columns": null,
            "grid_auto_flow": null,
            "grid_auto_rows": null,
            "grid_column": null,
            "grid_gap": null,
            "grid_row": null,
            "grid_template_areas": null,
            "grid_template_columns": null,
            "grid_template_rows": null,
            "height": null,
            "justify_content": null,
            "justify_items": null,
            "left": null,
            "margin": null,
            "max_height": null,
            "max_width": null,
            "min_height": null,
            "min_width": null,
            "object_fit": null,
            "object_position": null,
            "order": null,
            "overflow": null,
            "overflow_x": null,
            "overflow_y": null,
            "padding": null,
            "right": null,
            "top": null,
            "visibility": null,
            "width": null
          }
        },
        "e1447a37cd4241e095749506f012e16a": {
          "model_module": "@jupyter-widgets/controls",
          "model_name": "DescriptionStyleModel",
          "model_module_version": "1.5.0",
          "state": {
            "_model_module": "@jupyter-widgets/controls",
            "_model_module_version": "1.5.0",
            "_model_name": "DescriptionStyleModel",
            "_view_count": null,
            "_view_module": "@jupyter-widgets/base",
            "_view_module_version": "1.2.0",
            "_view_name": "StyleView",
            "description_width": ""
          }
        },
        "3341f6ce09aa41dc81e0365285dd0b1b": {
          "model_module": "@jupyter-widgets/base",
          "model_name": "LayoutModel",
          "model_module_version": "1.2.0",
          "state": {
            "_model_module": "@jupyter-widgets/base",
            "_model_module_version": "1.2.0",
            "_model_name": "LayoutModel",
            "_view_count": null,
            "_view_module": "@jupyter-widgets/base",
            "_view_module_version": "1.2.0",
            "_view_name": "LayoutView",
            "align_content": null,
            "align_items": null,
            "align_self": null,
            "border": null,
            "bottom": null,
            "display": null,
            "flex": null,
            "flex_flow": null,
            "grid_area": null,
            "grid_auto_columns": null,
            "grid_auto_flow": null,
            "grid_auto_rows": null,
            "grid_column": null,
            "grid_gap": null,
            "grid_row": null,
            "grid_template_areas": null,
            "grid_template_columns": null,
            "grid_template_rows": null,
            "height": null,
            "justify_content": null,
            "justify_items": null,
            "left": null,
            "margin": null,
            "max_height": null,
            "max_width": null,
            "min_height": null,
            "min_width": null,
            "object_fit": null,
            "object_position": null,
            "order": null,
            "overflow": null,
            "overflow_x": null,
            "overflow_y": null,
            "padding": null,
            "right": null,
            "top": null,
            "visibility": null,
            "width": null
          }
        },
        "3ee452e7f92e4a9ba2e4fef5030df61a": {
          "model_module": "@jupyter-widgets/controls",
          "model_name": "DescriptionStyleModel",
          "model_module_version": "1.5.0",
          "state": {
            "_model_module": "@jupyter-widgets/controls",
            "_model_module_version": "1.5.0",
            "_model_name": "DescriptionStyleModel",
            "_view_count": null,
            "_view_module": "@jupyter-widgets/base",
            "_view_module_version": "1.2.0",
            "_view_name": "StyleView",
            "description_width": ""
          }
        }
      }
    }
  },
  "nbformat": 4,
  "nbformat_minor": 0
}